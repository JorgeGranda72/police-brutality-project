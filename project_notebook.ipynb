{
 "cells": [
  {
   "cell_type": "code",
   "execution_count": 5,
   "metadata": {},
   "outputs": [],
   "source": [
    "import pandas as pd\n",
    "import seaborn as sns\n",
    "import numpy as np\n",
    "import matplotlib.pyplot as plt\n",
    "import datetime as dt\n",
    "import pandas as pd"
   ]
  },
  {
   "cell_type": "code",
   "execution_count": 1,
   "metadata": {},
   "outputs": [],
   "source": [
    "#df_civil_liberty = pd.read_csv(\"https://raw.githubusercontent.com/new-york-civil-liberties-union/NYPD-Misconduct-Complaint-Database-Updated/main/CCRB%20Complaint%20Database%20Raw%2004.20.2021.csv\")"
   ]
  },
  {
   "cell_type": "code",
   "execution_count": 2,
   "metadata": {},
   "outputs": [],
   "source": [
    "#df_civil_liberty.head()"
   ]
  },
  {
   "cell_type": "code",
   "execution_count": 3,
   "metadata": {},
   "outputs": [],
   "source": [
    "#df_civil_liberty.columns"
   ]
  },
  {
   "cell_type": "code",
   "execution_count": 113,
   "metadata": {},
   "outputs": [],
   "source": [
    "#df2 = pd.read_json('https://data.cityofnewyork.us/resource/xyq2-jjkn.json')\n",
    "\n",
    "#print(df.to_string())"
   ]
  },
  {
   "cell_type": "code",
   "execution_count": 62,
   "metadata": {},
   "outputs": [],
   "source": [
    "# Most fitting dataset for project (allegations)\n",
    "# The dataframe I want to work with (pro publica) make my df this frame\n",
    "df = pd.read_csv(\"Data/allegations_202007271729.csv\")\n"
   ]
  },
  {
   "cell_type": "code",
   "execution_count": 64,
   "metadata": {},
   "outputs": [
    {
     "data": {
      "text/html": [
       "<div>\n",
       "<style scoped>\n",
       "    .dataframe tbody tr th:only-of-type {\n",
       "        vertical-align: middle;\n",
       "    }\n",
       "\n",
       "    .dataframe tbody tr th {\n",
       "        vertical-align: top;\n",
       "    }\n",
       "\n",
       "    .dataframe thead th {\n",
       "        text-align: right;\n",
       "    }\n",
       "</style>\n",
       "<table border=\"1\" class=\"dataframe\">\n",
       "  <thead>\n",
       "    <tr style=\"text-align: right;\">\n",
       "      <th></th>\n",
       "      <th>unique_mos_id</th>\n",
       "      <th>first_name</th>\n",
       "      <th>last_name</th>\n",
       "      <th>command_now</th>\n",
       "      <th>shield_no</th>\n",
       "      <th>complaint_id</th>\n",
       "      <th>month_received</th>\n",
       "      <th>year_received</th>\n",
       "      <th>month_closed</th>\n",
       "      <th>year_closed</th>\n",
       "      <th>...</th>\n",
       "      <th>mos_age_incident</th>\n",
       "      <th>complainant_ethnicity</th>\n",
       "      <th>complainant_gender</th>\n",
       "      <th>complainant_age_incident</th>\n",
       "      <th>fado_type</th>\n",
       "      <th>allegation</th>\n",
       "      <th>precinct</th>\n",
       "      <th>contact_reason</th>\n",
       "      <th>outcome_description</th>\n",
       "      <th>board_disposition</th>\n",
       "    </tr>\n",
       "  </thead>\n",
       "  <tbody>\n",
       "    <tr>\n",
       "      <th>0</th>\n",
       "      <td>10004</td>\n",
       "      <td>Jonathan</td>\n",
       "      <td>Ruiz</td>\n",
       "      <td>078 PCT</td>\n",
       "      <td>8409</td>\n",
       "      <td>42835</td>\n",
       "      <td>7</td>\n",
       "      <td>2019</td>\n",
       "      <td>5</td>\n",
       "      <td>2020</td>\n",
       "      <td>...</td>\n",
       "      <td>32</td>\n",
       "      <td>Black</td>\n",
       "      <td>Female</td>\n",
       "      <td>38.0</td>\n",
       "      <td>Abuse of Authority</td>\n",
       "      <td>Failure to provide RTKA card</td>\n",
       "      <td>78.0</td>\n",
       "      <td>Report-domestic dispute</td>\n",
       "      <td>No arrest made or summons issued</td>\n",
       "      <td>Substantiated (Command Lvl Instructions)</td>\n",
       "    </tr>\n",
       "    <tr>\n",
       "      <th>1</th>\n",
       "      <td>10007</td>\n",
       "      <td>John</td>\n",
       "      <td>Sears</td>\n",
       "      <td>078 PCT</td>\n",
       "      <td>5952</td>\n",
       "      <td>24601</td>\n",
       "      <td>11</td>\n",
       "      <td>2011</td>\n",
       "      <td>8</td>\n",
       "      <td>2012</td>\n",
       "      <td>...</td>\n",
       "      <td>24</td>\n",
       "      <td>Black</td>\n",
       "      <td>Male</td>\n",
       "      <td>26.0</td>\n",
       "      <td>Discourtesy</td>\n",
       "      <td>Action</td>\n",
       "      <td>67.0</td>\n",
       "      <td>Moving violation</td>\n",
       "      <td>Moving violation summons issued</td>\n",
       "      <td>Substantiated (Charges)</td>\n",
       "    </tr>\n",
       "    <tr>\n",
       "      <th>2</th>\n",
       "      <td>10007</td>\n",
       "      <td>John</td>\n",
       "      <td>Sears</td>\n",
       "      <td>078 PCT</td>\n",
       "      <td>5952</td>\n",
       "      <td>24601</td>\n",
       "      <td>11</td>\n",
       "      <td>2011</td>\n",
       "      <td>8</td>\n",
       "      <td>2012</td>\n",
       "      <td>...</td>\n",
       "      <td>24</td>\n",
       "      <td>Black</td>\n",
       "      <td>Male</td>\n",
       "      <td>26.0</td>\n",
       "      <td>Offensive Language</td>\n",
       "      <td>Race</td>\n",
       "      <td>67.0</td>\n",
       "      <td>Moving violation</td>\n",
       "      <td>Moving violation summons issued</td>\n",
       "      <td>Substantiated (Charges)</td>\n",
       "    </tr>\n",
       "    <tr>\n",
       "      <th>3</th>\n",
       "      <td>10007</td>\n",
       "      <td>John</td>\n",
       "      <td>Sears</td>\n",
       "      <td>078 PCT</td>\n",
       "      <td>5952</td>\n",
       "      <td>26146</td>\n",
       "      <td>7</td>\n",
       "      <td>2012</td>\n",
       "      <td>9</td>\n",
       "      <td>2013</td>\n",
       "      <td>...</td>\n",
       "      <td>25</td>\n",
       "      <td>Black</td>\n",
       "      <td>Male</td>\n",
       "      <td>45.0</td>\n",
       "      <td>Abuse of Authority</td>\n",
       "      <td>Question</td>\n",
       "      <td>67.0</td>\n",
       "      <td>PD suspected C/V of violation/crime - street</td>\n",
       "      <td>No arrest made or summons issued</td>\n",
       "      <td>Substantiated (Charges)</td>\n",
       "    </tr>\n",
       "    <tr>\n",
       "      <th>4</th>\n",
       "      <td>10009</td>\n",
       "      <td>Noemi</td>\n",
       "      <td>Sierra</td>\n",
       "      <td>078 PCT</td>\n",
       "      <td>24058</td>\n",
       "      <td>40253</td>\n",
       "      <td>8</td>\n",
       "      <td>2018</td>\n",
       "      <td>2</td>\n",
       "      <td>2019</td>\n",
       "      <td>...</td>\n",
       "      <td>39</td>\n",
       "      <td>NaN</td>\n",
       "      <td>NaN</td>\n",
       "      <td>16.0</td>\n",
       "      <td>Force</td>\n",
       "      <td>Physical force</td>\n",
       "      <td>67.0</td>\n",
       "      <td>Report-dispute</td>\n",
       "      <td>Arrest - other violation/crime</td>\n",
       "      <td>Substantiated (Command Discipline A)</td>\n",
       "    </tr>\n",
       "  </tbody>\n",
       "</table>\n",
       "<p>5 rows × 27 columns</p>\n",
       "</div>"
      ],
      "text/plain": [
       "   unique_mos_id first_name last_name command_now  shield_no  complaint_id  \\\n",
       "0          10004   Jonathan      Ruiz     078 PCT       8409         42835   \n",
       "1          10007       John     Sears     078 PCT       5952         24601   \n",
       "2          10007       John     Sears     078 PCT       5952         24601   \n",
       "3          10007       John     Sears     078 PCT       5952         26146   \n",
       "4          10009      Noemi    Sierra     078 PCT      24058         40253   \n",
       "\n",
       "   month_received  year_received  month_closed  year_closed  ...  \\\n",
       "0               7           2019             5         2020  ...   \n",
       "1              11           2011             8         2012  ...   \n",
       "2              11           2011             8         2012  ...   \n",
       "3               7           2012             9         2013  ...   \n",
       "4               8           2018             2         2019  ...   \n",
       "\n",
       "  mos_age_incident complainant_ethnicity complainant_gender  \\\n",
       "0               32                 Black             Female   \n",
       "1               24                 Black               Male   \n",
       "2               24                 Black               Male   \n",
       "3               25                 Black               Male   \n",
       "4               39                   NaN                NaN   \n",
       "\n",
       "  complainant_age_incident           fado_type                    allegation  \\\n",
       "0                     38.0  Abuse of Authority  Failure to provide RTKA card   \n",
       "1                     26.0         Discourtesy                        Action   \n",
       "2                     26.0  Offensive Language                          Race   \n",
       "3                     45.0  Abuse of Authority                      Question   \n",
       "4                     16.0               Force                Physical force   \n",
       "\n",
       "  precinct                                contact_reason  \\\n",
       "0     78.0                       Report-domestic dispute   \n",
       "1     67.0                              Moving violation   \n",
       "2     67.0                              Moving violation   \n",
       "3     67.0  PD suspected C/V of violation/crime - street   \n",
       "4     67.0                                Report-dispute   \n",
       "\n",
       "                outcome_description                         board_disposition  \n",
       "0  No arrest made or summons issued  Substantiated (Command Lvl Instructions)  \n",
       "1   Moving violation summons issued                   Substantiated (Charges)  \n",
       "2   Moving violation summons issued                   Substantiated (Charges)  \n",
       "3  No arrest made or summons issued                   Substantiated (Charges)  \n",
       "4    Arrest - other violation/crime      Substantiated (Command Discipline A)  \n",
       "\n",
       "[5 rows x 27 columns]"
      ]
     },
     "execution_count": 64,
     "metadata": {},
     "output_type": "execute_result"
    }
   ],
   "source": [
    "df.head()"
   ]
  },
  {
   "cell_type": "code",
   "execution_count": 65,
   "metadata": {},
   "outputs": [
    {
     "data": {
      "text/plain": [
       "unique_mos_id                 int64\n",
       "first_name                   object\n",
       "last_name                    object\n",
       "command_now                  object\n",
       "shield_no                     int64\n",
       "complaint_id                  int64\n",
       "month_received                int64\n",
       "year_received                 int64\n",
       "month_closed                  int64\n",
       "year_closed                   int64\n",
       "command_at_incident          object\n",
       "rank_abbrev_incident         object\n",
       "rank_abbrev_now              object\n",
       "rank_now                     object\n",
       "rank_incident                object\n",
       "mos_ethnicity                object\n",
       "mos_gender                   object\n",
       "mos_age_incident              int64\n",
       "complainant_ethnicity        object\n",
       "complainant_gender           object\n",
       "complainant_age_incident    float64\n",
       "fado_type                    object\n",
       "allegation                   object\n",
       "precinct                    float64\n",
       "contact_reason               object\n",
       "outcome_description          object\n",
       "board_disposition            object\n",
       "dtype: object"
      ]
     },
     "execution_count": 65,
     "metadata": {},
     "output_type": "execute_result"
    }
   ],
   "source": [
    "df.dtypes"
   ]
  },
  {
   "cell_type": "markdown",
   "metadata": {},
   "source": [
    "\n",
    "Allegations data provided by [ProPublica](https://www.nyclu.org/en/campaigns/nypd-misconduct-database) Find the database of more than 12,000 civilian complaints filed against New York City police officers [here](https://www.propublica.org/datastore/dataset/civilian-complaints-against-new-york-city-police-officers)\n"
   ]
  },
  {
   "cell_type": "code",
   "execution_count": 10,
   "metadata": {},
   "outputs": [
    {
     "name": "stdout",
     "output_type": "stream",
     "text": [
      "<class 'pandas.core.frame.DataFrame'>\n",
      "RangeIndex: 33358 entries, 0 to 33357\n",
      "Data columns (total 27 columns):\n",
      " #   Column                    Non-Null Count  Dtype  \n",
      "---  ------                    --------------  -----  \n",
      " 0   unique_mos_id             33358 non-null  int64  \n",
      " 1   first_name                33358 non-null  object \n",
      " 2   last_name                 33358 non-null  object \n",
      " 3   command_now               33358 non-null  object \n",
      " 4   shield_no                 33358 non-null  int64  \n",
      " 5   complaint_id              33358 non-null  int64  \n",
      " 6   month_received            33358 non-null  int64  \n",
      " 7   year_received             33358 non-null  int64  \n",
      " 8   month_closed              33358 non-null  int64  \n",
      " 9   year_closed               33358 non-null  int64  \n",
      " 10  command_at_incident       31814 non-null  object \n",
      " 11  rank_abbrev_incident      33358 non-null  object \n",
      " 12  rank_abbrev_now           33358 non-null  object \n",
      " 13  rank_now                  33358 non-null  object \n",
      " 14  rank_incident             33358 non-null  object \n",
      " 15  mos_ethnicity             33358 non-null  object \n",
      " 16  mos_gender                33358 non-null  object \n",
      " 17  mos_age_incident          33358 non-null  int64  \n",
      " 18  complainant_ethnicity     28894 non-null  object \n",
      " 19  complainant_gender        29163 non-null  object \n",
      " 20  complainant_age_incident  28546 non-null  float64\n",
      " 21  fado_type                 33358 non-null  object \n",
      " 22  allegation                33357 non-null  object \n",
      " 23  precinct                  33334 non-null  float64\n",
      " 24  contact_reason            33159 non-null  object \n",
      " 25  outcome_description       33302 non-null  object \n",
      " 26  board_disposition         33358 non-null  object \n",
      "dtypes: float64(2), int64(8), object(17)\n",
      "memory usage: 6.9+ MB\n"
     ]
    }
   ],
   "source": [
    "df.info()"
   ]
  },
  {
   "cell_type": "markdown",
   "metadata": {},
   "source": [
    "### Dictionary"
   ]
  },
  {
   "cell_type": "markdown",
   "metadata": {},
   "source": [
    "***\n",
    "**Last Name:** Last name of officer named in the complaint.<br>\n",
    "**First Name:** First name of officer named in the complaint.<br>\n",
    "**Rank:** Rank of officer named in complaint at the time of the incident (e.g., Captain).<br>\n",
    "**Command:** NYPD unit where the named officer was assigned at the time of the incident\n",
    "(e.g., the 5th Precinct).<br>\n",
    "**Incident Date:** Date on which the incident took place.<br>\n",
    "**Complaint Category:** Category of misconduct within the CCRB’s jurisdiction, which includes Force, Abuse of Authority, Discourtesy, and Offensive Language.<br>\n",
    "**Allegation:** Short description of the action in the complaint (e.g., Gun Drawn).<br>\n",
    "**CCRB Finding:** The CCRB’s final evaluation of the complaint. Details can be found on the CCRB website.<br>\n",
    "**NYPD Finding:** NYPD final disposition of the complaint.<br>\n",
    "**Penalty:** NYPD penalty given to the officer named in the complaint.<br>\n",
    "**Officer Race:** Race/ethnicity of officer named in the complaint.<br>\n",
    "**Race of Impacted Person:** Self-reported race/ethnicity of the person impacted in the incident (only present for complaints processed after the year 2000).<br>\n",
    "**Precinct Location:** NYPD precinct where the incident took place.<br>\n",
    "**Employment Status:** Indicator of whether the officer is still active or retired.<br>\n",
    "**Officer ID:** This is a unique number the CCRB creates and assigns to each officer about whom it receives a complaint. This number does not correspond to any number the NYPD assigns to officers, such as a badge number.<br>\n",
    "**Incident ID:** This is a unique number the CCRB assigns to each incident about which it receives a complaint. Multiple officers may be the subject of a complaint about the same incident.<br>\n",
    "***"
   ]
  },
  {
   "cell_type": "code",
   "execution_count": 11,
   "metadata": {},
   "outputs": [
    {
     "data": {
      "text/plain": [
       "(33358, 27)"
      ]
     },
     "execution_count": 11,
     "metadata": {},
     "output_type": "execute_result"
    }
   ],
   "source": [
    "df.shape"
   ]
  },
  {
   "cell_type": "code",
   "execution_count": 66,
   "metadata": {},
   "outputs": [
    {
     "data": {
      "text/plain": [
       "unique_mos_id                  0\n",
       "first_name                     0\n",
       "last_name                      0\n",
       "command_now                    0\n",
       "shield_no                      0\n",
       "complaint_id                   0\n",
       "month_received                 0\n",
       "year_received                  0\n",
       "month_closed                   0\n",
       "year_closed                    0\n",
       "command_at_incident         1544\n",
       "rank_abbrev_incident           0\n",
       "rank_abbrev_now                0\n",
       "rank_now                       0\n",
       "rank_incident                  0\n",
       "mos_ethnicity                  0\n",
       "mos_gender                     0\n",
       "mos_age_incident               0\n",
       "complainant_ethnicity       4464\n",
       "complainant_gender          4195\n",
       "complainant_age_incident    4812\n",
       "fado_type                      0\n",
       "allegation                     1\n",
       "precinct                      24\n",
       "contact_reason               199\n",
       "outcome_description           56\n",
       "board_disposition              0\n",
       "dtype: int64"
      ]
     },
     "execution_count": 66,
     "metadata": {},
     "output_type": "execute_result"
    }
   ],
   "source": [
    "df.isnull().sum()"
   ]
  },
  {
   "cell_type": "code",
   "execution_count": 67,
   "metadata": {},
   "outputs": [],
   "source": [
    "# Create a column with the first and last name\n",
    "# Drop first_name and last_name columns after\n",
    "df['OficerName'] = df.first_name + ' ' + df.last_name\n",
    "# Drop unnecesary columns regarding officer names\n",
    "df.drop(['first_name','last_name'],axis=1,inplace=True) \n"
   ]
  },
  {
   "cell_type": "markdown",
   "metadata": {},
   "source": [
    "#### Percentage of missing values for each variable"
   ]
  },
  {
   "cell_type": "code",
   "execution_count": 68,
   "metadata": {},
   "outputs": [],
   "source": [
    "df_null_percent = (df.isnull().sum()/df.shape[0]*100).sort_values(ascending=False)"
   ]
  },
  {
   "cell_type": "code",
   "execution_count": 69,
   "metadata": {},
   "outputs": [
    {
     "data": {
      "text/plain": [
       "complainant_age_incident    14.425325\n",
       "complainant_ethnicity       13.382097\n",
       "complainant_gender          12.575694\n",
       "command_at_incident          4.628575\n",
       "contact_reason               0.596559\n",
       "outcome_description          0.167876\n",
       "precinct                     0.071947\n",
       "allegation                   0.002998\n",
       "unique_mos_id                0.000000\n",
       "mos_gender                   0.000000\n",
       "board_disposition            0.000000\n",
       "fado_type                    0.000000\n",
       "mos_age_incident             0.000000\n",
       "mos_ethnicity                0.000000\n",
       "command_now                  0.000000\n",
       "rank_incident                0.000000\n",
       "rank_now                     0.000000\n",
       "rank_abbrev_now              0.000000\n",
       "rank_abbrev_incident         0.000000\n",
       "year_closed                  0.000000\n",
       "month_closed                 0.000000\n",
       "year_received                0.000000\n",
       "month_received               0.000000\n",
       "complaint_id                 0.000000\n",
       "shield_no                    0.000000\n",
       "OficerName                   0.000000\n",
       "dtype: float64"
      ]
     },
     "execution_count": 69,
     "metadata": {},
     "output_type": "execute_result"
    }
   ],
   "source": [
    "df_null_percent"
   ]
  },
  {
   "cell_type": "markdown",
   "metadata": {},
   "source": [
    "Presenting the missing values in dataframe form"
   ]
  },
  {
   "cell_type": "code",
   "execution_count": 70,
   "metadata": {},
   "outputs": [],
   "source": [
    "df_null_percent = df_null_percent.reset_index()"
   ]
  },
  {
   "cell_type": "code",
   "execution_count": 71,
   "metadata": {},
   "outputs": [],
   "source": [
    "df_null_percent.rename(columns={0:\"percentage\"},inplace = True)"
   ]
  },
  {
   "cell_type": "code",
   "execution_count": 75,
   "metadata": {},
   "outputs": [
    {
     "data": {
      "text/html": [
       "<div>\n",
       "<style scoped>\n",
       "    .dataframe tbody tr th:only-of-type {\n",
       "        vertical-align: middle;\n",
       "    }\n",
       "\n",
       "    .dataframe tbody tr th {\n",
       "        vertical-align: top;\n",
       "    }\n",
       "\n",
       "    .dataframe thead th {\n",
       "        text-align: right;\n",
       "    }\n",
       "</style>\n",
       "<table border=\"1\" class=\"dataframe\">\n",
       "  <thead>\n",
       "    <tr style=\"text-align: right;\">\n",
       "      <th></th>\n",
       "      <th>index</th>\n",
       "      <th>percentage</th>\n",
       "    </tr>\n",
       "  </thead>\n",
       "  <tbody>\n",
       "    <tr>\n",
       "      <th>0</th>\n",
       "      <td>complainant_age_incident</td>\n",
       "      <td>14.425325</td>\n",
       "    </tr>\n",
       "    <tr>\n",
       "      <th>1</th>\n",
       "      <td>complainant_ethnicity</td>\n",
       "      <td>13.382097</td>\n",
       "    </tr>\n",
       "    <tr>\n",
       "      <th>2</th>\n",
       "      <td>complainant_gender</td>\n",
       "      <td>12.575694</td>\n",
       "    </tr>\n",
       "    <tr>\n",
       "      <th>3</th>\n",
       "      <td>command_at_incident</td>\n",
       "      <td>4.628575</td>\n",
       "    </tr>\n",
       "    <tr>\n",
       "      <th>4</th>\n",
       "      <td>contact_reason</td>\n",
       "      <td>0.596559</td>\n",
       "    </tr>\n",
       "  </tbody>\n",
       "</table>\n",
       "</div>"
      ],
      "text/plain": [
       "                      index  percentage\n",
       "0  complainant_age_incident   14.425325\n",
       "1     complainant_ethnicity   13.382097\n",
       "2        complainant_gender   12.575694\n",
       "3       command_at_incident    4.628575\n",
       "4            contact_reason    0.596559"
      ]
     },
     "execution_count": 75,
     "metadata": {},
     "output_type": "execute_result"
    }
   ],
   "source": [
    "df_null_percent.head()"
   ]
  },
  {
   "cell_type": "code",
   "execution_count": 77,
   "metadata": {},
   "outputs": [
    {
     "data": {
      "text/html": [
       "<div>\n",
       "<style scoped>\n",
       "    .dataframe tbody tr th:only-of-type {\n",
       "        vertical-align: middle;\n",
       "    }\n",
       "\n",
       "    .dataframe tbody tr th {\n",
       "        vertical-align: top;\n",
       "    }\n",
       "\n",
       "    .dataframe thead th {\n",
       "        text-align: right;\n",
       "    }\n",
       "</style>\n",
       "<table border=\"1\" class=\"dataframe\">\n",
       "  <thead>\n",
       "    <tr style=\"text-align: right;\">\n",
       "      <th></th>\n",
       "      <th>index</th>\n",
       "      <th>percentage</th>\n",
       "    </tr>\n",
       "  </thead>\n",
       "  <tbody>\n",
       "    <tr>\n",
       "      <th>0</th>\n",
       "      <td>complainant_age_incident</td>\n",
       "      <td>14.425325</td>\n",
       "    </tr>\n",
       "    <tr>\n",
       "      <th>1</th>\n",
       "      <td>complainant_ethnicity</td>\n",
       "      <td>13.382097</td>\n",
       "    </tr>\n",
       "    <tr>\n",
       "      <th>2</th>\n",
       "      <td>complainant_gender</td>\n",
       "      <td>12.575694</td>\n",
       "    </tr>\n",
       "    <tr>\n",
       "      <th>3</th>\n",
       "      <td>command_at_incident</td>\n",
       "      <td>4.628575</td>\n",
       "    </tr>\n",
       "    <tr>\n",
       "      <th>4</th>\n",
       "      <td>contact_reason</td>\n",
       "      <td>0.596559</td>\n",
       "    </tr>\n",
       "    <tr>\n",
       "      <th>5</th>\n",
       "      <td>outcome_description</td>\n",
       "      <td>0.167876</td>\n",
       "    </tr>\n",
       "    <tr>\n",
       "      <th>6</th>\n",
       "      <td>precinct</td>\n",
       "      <td>0.071947</td>\n",
       "    </tr>\n",
       "    <tr>\n",
       "      <th>7</th>\n",
       "      <td>allegation</td>\n",
       "      <td>0.002998</td>\n",
       "    </tr>\n",
       "  </tbody>\n",
       "</table>\n",
       "</div>"
      ],
      "text/plain": [
       "                      index  percentage\n",
       "0  complainant_age_incident   14.425325\n",
       "1     complainant_ethnicity   13.382097\n",
       "2        complainant_gender   12.575694\n",
       "3       command_at_incident    4.628575\n",
       "4            contact_reason    0.596559\n",
       "5       outcome_description    0.167876\n",
       "6                  precinct    0.071947\n",
       "7                allegation    0.002998"
      ]
     },
     "execution_count": 77,
     "metadata": {},
     "output_type": "execute_result"
    }
   ],
   "source": [
    "# Ignore columns with zero null percentage\n",
    "zero_cond = df_null_percent['percentage'] != 0\n",
    "df_null_percent = df_null_percent[zero_cond]\n",
    "df_null_percent"
   ]
  },
  {
   "cell_type": "code",
   "execution_count": 79,
   "metadata": {},
   "outputs": [],
   "source": [
    "df.dropna(subset=['precinct', 'contact_reason','allegation','outcome_description'],inplace = True)\n"
   ]
  },
  {
   "cell_type": "code",
   "execution_count": 87,
   "metadata": {},
   "outputs": [
    {
     "data": {
      "text/html": [
       "<div>\n",
       "<style scoped>\n",
       "    .dataframe tbody tr th:only-of-type {\n",
       "        vertical-align: middle;\n",
       "    }\n",
       "\n",
       "    .dataframe tbody tr th {\n",
       "        vertical-align: top;\n",
       "    }\n",
       "\n",
       "    .dataframe thead th {\n",
       "        text-align: right;\n",
       "    }\n",
       "</style>\n",
       "<table border=\"1\" class=\"dataframe\">\n",
       "  <thead>\n",
       "    <tr style=\"text-align: right;\">\n",
       "      <th></th>\n",
       "      <th>index</th>\n",
       "      <th>percentage</th>\n",
       "    </tr>\n",
       "  </thead>\n",
       "  <tbody>\n",
       "    <tr>\n",
       "      <th>0</th>\n",
       "      <td>complainant_age_incident</td>\n",
       "      <td>14.311194</td>\n",
       "    </tr>\n",
       "    <tr>\n",
       "      <th>1</th>\n",
       "      <td>complainant_ethnicity</td>\n",
       "      <td>13.241029</td>\n",
       "    </tr>\n",
       "    <tr>\n",
       "      <th>2</th>\n",
       "      <td>complainant_gender</td>\n",
       "      <td>12.452009</td>\n",
       "    </tr>\n",
       "    <tr>\n",
       "      <th>3</th>\n",
       "      <td>command_at_incident</td>\n",
       "      <td>4.510414</td>\n",
       "    </tr>\n",
       "    <tr>\n",
       "      <th>4</th>\n",
       "      <td>unique_mos_id</td>\n",
       "      <td>0.000000</td>\n",
       "    </tr>\n",
       "    <tr>\n",
       "      <th>5</th>\n",
       "      <td>mos_gender</td>\n",
       "      <td>0.000000</td>\n",
       "    </tr>\n",
       "    <tr>\n",
       "      <th>6</th>\n",
       "      <td>board_disposition</td>\n",
       "      <td>0.000000</td>\n",
       "    </tr>\n",
       "    <tr>\n",
       "      <th>7</th>\n",
       "      <td>outcome_description</td>\n",
       "      <td>0.000000</td>\n",
       "    </tr>\n",
       "  </tbody>\n",
       "</table>\n",
       "</div>"
      ],
      "text/plain": [
       "                      index  percentage\n",
       "0  complainant_age_incident   14.311194\n",
       "1     complainant_ethnicity   13.241029\n",
       "2        complainant_gender   12.452009\n",
       "3       command_at_incident    4.510414\n",
       "4             unique_mos_id    0.000000\n",
       "5                mos_gender    0.000000\n",
       "6         board_disposition    0.000000\n",
       "7       outcome_description    0.000000"
      ]
     },
     "execution_count": 87,
     "metadata": {},
     "output_type": "execute_result"
    }
   ],
   "source": [
    "df_null_percent = (df.isnull().sum()/df.shape[0]*100).sort_values(ascending=False)\n",
    "df_null_percent = df_null_percent.reset_index()\n",
    "df_null_percent.rename(columns={0:\"percentage\"},inplace = True)\n",
    "df_null_percent = df_null_percent[zero_cond]\n",
    "df_null_percent"
   ]
  },
  {
   "cell_type": "markdown",
   "metadata": {},
   "source": [
    "### Complainant Gender Distribution"
   ]
  },
  {
   "cell_type": "code",
   "execution_count": 88,
   "metadata": {},
   "outputs": [],
   "source": [
    "# Replace values Not described and nan with Male\n",
    "no_gender_dict = {np.nan:'Male','Not described':'Male'}\n",
    "df.complainant_gender.replace(no_gender_dict, inplace = True)"
   ]
  },
  {
   "cell_type": "code",
   "execution_count": 89,
   "metadata": {},
   "outputs": [
    {
     "data": {
      "text/plain": [
       "Male                     28083\n",
       "Female                    4969\n",
       "Transwoman (MTF)            20\n",
       "Transman (FTM)               5\n",
       "Gender non-conforming        2\n",
       "Name: complainant_gender, dtype: int64"
      ]
     },
     "execution_count": 89,
     "metadata": {},
     "output_type": "execute_result"
    }
   ],
   "source": [
    "df.complainant_gender.value_counts()"
   ]
  },
  {
   "cell_type": "code",
   "execution_count": 90,
   "metadata": {},
   "outputs": [
    {
     "name": "stdout",
     "output_type": "stream",
     "text": [
      "632\n"
     ]
    }
   ],
   "source": [
    "# Check for duplicates\n",
    "print(df.duplicated().sum())\n",
    "#df.duplicated()"
   ]
  },
  {
   "cell_type": "code",
   "execution_count": 91,
   "metadata": {},
   "outputs": [],
   "source": [
    "df = df.drop_duplicates()"
   ]
  },
  {
   "cell_type": "code",
   "execution_count": 92,
   "metadata": {},
   "outputs": [
    {
     "name": "stdout",
     "output_type": "stream",
     "text": [
      "0\n"
     ]
    }
   ],
   "source": [
    "# Sanity check\n",
    "print(df.duplicated().sum())\n"
   ]
  },
  {
   "cell_type": "markdown",
   "metadata": {},
   "source": [
    "#### Officers with the most incidents on record\n"
   ]
  },
  {
   "cell_type": "code",
   "execution_count": 93,
   "metadata": {},
   "outputs": [
    {
     "data": {
      "text/plain": [
       "Daniel Sbarra           75\n",
       "Mathew Reich            74\n",
       "Christophe Mccormack    70\n",
       "Gary Messina            67\n",
       "David Cheesewright      62\n",
       "William Taylor          62\n",
       "Mike Civil              54\n",
       "Paul Mcmahon            53\n",
       "Michael Raso            48\n",
       "Matthew Lewis           47\n",
       "Trevor Baronette        47\n",
       "Michael Miller          45\n",
       "Joseph Tallarine        45\n",
       "David Grieco            45\n",
       "Ricardo Bocachica       45\n",
       "Kevin Martin            44\n",
       "Kevin Matthews          44\n",
       "John Rajan              44\n",
       "Nikolaos Stefopoulos    43\n",
       "Dion Edwards            43\n",
       "Name: OficerName, dtype: int64"
      ]
     },
     "execution_count": 93,
     "metadata": {},
     "output_type": "execute_result"
    }
   ],
   "source": [
    "df.OficerName.value_counts()[:20]"
   ]
  },
  {
   "cell_type": "markdown",
   "metadata": {},
   "source": [
    "### Complainant Ethnicity Distribution"
   ]
  },
  {
   "cell_type": "code",
   "execution_count": 94,
   "metadata": {},
   "outputs": [
    {
     "data": {
      "text/plain": [
       "Black              16775\n",
       "Hispanic            6289\n",
       "White               2732\n",
       "Unknown             1000\n",
       "Other Race           661\n",
       "Asian                518\n",
       "Refused              255\n",
       "American Indian       63\n",
       "Name: complainant_ethnicity, dtype: int64"
      ]
     },
     "execution_count": 94,
     "metadata": {},
     "output_type": "execute_result"
    }
   ],
   "source": [
    "df.complainant_ethnicity.value_counts()"
   ]
  },
  {
   "cell_type": "code",
   "execution_count": 95,
   "metadata": {},
   "outputs": [
    {
     "data": {
      "text/plain": [
       "4154"
      ]
     },
     "execution_count": 95,
     "metadata": {},
     "output_type": "execute_result"
    }
   ],
   "source": [
    "df.complainant_ethnicity.isnull().sum()"
   ]
  },
  {
   "cell_type": "code",
   "execution_count": 96,
   "metadata": {},
   "outputs": [
    {
     "name": "stderr",
     "output_type": "stream",
     "text": [
      "/Users/jorgegranda/anaconda3/lib/python3.7/site-packages/pandas/core/generic.py:5516: SettingWithCopyWarning: \n",
      "A value is trying to be set on a copy of a slice from a DataFrame.\n",
      "Try using .loc[row_indexer,col_indexer] = value instead\n",
      "\n",
      "See the caveats in the documentation: https://pandas.pydata.org/pandas-docs/stable/user_guide/indexing.html#returning-a-view-versus-a-copy\n",
      "  self[name] = value\n",
      "/Users/jorgegranda/anaconda3/lib/python3.7/site-packages/pandas/util/_decorators.py:311: SettingWithCopyWarning: \n",
      "A value is trying to be set on a copy of a slice from a DataFrame\n",
      "\n",
      "See the caveats in the documentation: https://pandas.pydata.org/pandas-docs/stable/user_guide/indexing.html#returning-a-view-versus-a-copy\n",
      "  return func(*args, **kwargs)\n"
     ]
    }
   ],
   "source": [
    "# Rename Unknown, Other Race, Refused, with null \n",
    "# Drop all nulls\n",
    "no_race_dict = {'nan':np.nan,'Refused':np.nan,'Unknown':np.nan,'Other Race':np.nan}\n",
    "df.complainant_ethnicity = df.complainant_ethnicity.replace(no_race_dict)\n",
    "df.dropna(subset=['complainant_ethnicity'],how='any',axis=0,inplace=True)\n"
   ]
  },
  {
   "cell_type": "code",
   "execution_count": 97,
   "metadata": {},
   "outputs": [
    {
     "data": {
      "text/plain": [
       "Black              16775\n",
       "Hispanic            6289\n",
       "White               2732\n",
       "Asian                518\n",
       "American Indian       63\n",
       "Name: complainant_ethnicity, dtype: int64"
      ]
     },
     "execution_count": 97,
     "metadata": {},
     "output_type": "execute_result"
    }
   ],
   "source": [
    "df.complainant_ethnicity.value_counts()"
   ]
  },
  {
   "cell_type": "code",
   "execution_count": 103,
   "metadata": {},
   "outputs": [],
   "source": [
    "### Match complainant ethnicity to fado_type"
   ]
  },
  {
   "cell_type": "code",
   "execution_count": 112,
   "metadata": {},
   "outputs": [],
   "source": [
    "Ethnicity_table = df.pivot_table(values='complaint_id',columns='complainant_ethnicity',index='fado_type',aggfunc='count')\n"
   ]
  },
  {
   "cell_type": "code",
   "execution_count": 113,
   "metadata": {},
   "outputs": [
    {
     "data": {
      "text/html": [
       "<div>\n",
       "<style scoped>\n",
       "    .dataframe tbody tr th:only-of-type {\n",
       "        vertical-align: middle;\n",
       "    }\n",
       "\n",
       "    .dataframe tbody tr th {\n",
       "        vertical-align: top;\n",
       "    }\n",
       "\n",
       "    .dataframe thead th {\n",
       "        text-align: right;\n",
       "    }\n",
       "</style>\n",
       "<table border=\"1\" class=\"dataframe\">\n",
       "  <thead>\n",
       "    <tr style=\"text-align: right;\">\n",
       "      <th>complainant_ethnicity</th>\n",
       "      <th>American Indian</th>\n",
       "      <th>Asian</th>\n",
       "      <th>Black</th>\n",
       "      <th>Hispanic</th>\n",
       "      <th>White</th>\n",
       "    </tr>\n",
       "    <tr>\n",
       "      <th>fado_type</th>\n",
       "      <th></th>\n",
       "      <th></th>\n",
       "      <th></th>\n",
       "      <th></th>\n",
       "      <th></th>\n",
       "    </tr>\n",
       "  </thead>\n",
       "  <tbody>\n",
       "    <tr>\n",
       "      <th>Abuse of Authority</th>\n",
       "      <td>47</td>\n",
       "      <td>324</td>\n",
       "      <td>10188</td>\n",
       "      <td>3619</td>\n",
       "      <td>1647</td>\n",
       "    </tr>\n",
       "    <tr>\n",
       "      <th>Discourtesy</th>\n",
       "      <td>8</td>\n",
       "      <td>86</td>\n",
       "      <td>2227</td>\n",
       "      <td>990</td>\n",
       "      <td>478</td>\n",
       "    </tr>\n",
       "    <tr>\n",
       "      <th>Force</th>\n",
       "      <td>7</td>\n",
       "      <td>88</td>\n",
       "      <td>3975</td>\n",
       "      <td>1555</td>\n",
       "      <td>544</td>\n",
       "    </tr>\n",
       "    <tr>\n",
       "      <th>Offensive Language</th>\n",
       "      <td>1</td>\n",
       "      <td>20</td>\n",
       "      <td>385</td>\n",
       "      <td>125</td>\n",
       "      <td>63</td>\n",
       "    </tr>\n",
       "  </tbody>\n",
       "</table>\n",
       "</div>"
      ],
      "text/plain": [
       "complainant_ethnicity  American Indian  Asian  Black  Hispanic  White\n",
       "fado_type                                                            \n",
       "Abuse of Authority                  47    324  10188      3619   1647\n",
       "Discourtesy                          8     86   2227       990    478\n",
       "Force                                7     88   3975      1555    544\n",
       "Offensive Language                   1     20    385       125     63"
      ]
     },
     "execution_count": 113,
     "metadata": {},
     "output_type": "execute_result"
    }
   ],
   "source": [
    "Ethnicity_table.head()"
   ]
  },
  {
   "cell_type": "markdown",
   "metadata": {},
   "source": [
    "### A better way to display the ethnicity pivot table is with the percentage distribution"
   ]
  },
  {
   "cell_type": "code",
   "execution_count": 114,
   "metadata": {},
   "outputs": [],
   "source": [
    "Total_eth=(Ethnicity_table['American Indian']+Ethnicity_table['Asian']+ Ethnicity_table['Black']+Ethnicity_table['Hispanic'] + Ethnicity_table['White'])\n",
    "Ethnicity_table['American Indian%'] = round(Ethnicity_table['American Indian']/Total_eth * 100,2)\n",
    "Ethnicity_table['Asian%'] = round(Ethnicity_table['Asian']/Total_eth * 100,2)\n",
    "Ethnicity_table['Black%'] = round(Ethnicity_table['Black']/Total_eth * 100,2)\n",
    "Ethnicity_table['Hispanic%'] = round(Ethnicity_table['Hispanic']/Total_eth * 100,2)\n",
    "Ethnicity_table['White%'] = round(Ethnicity_table['White']/Total_eth * 100,2)\n",
    "Ethnicity_table.drop(['American Indian', 'Black', 'White', 'Hispanic', 'Asian'],axis = 1, inplace = True)"
   ]
  },
  {
   "cell_type": "code",
   "execution_count": 115,
   "metadata": {},
   "outputs": [],
   "source": [
    "Ethnicity_table['index']=np.arange(4)"
   ]
  },
  {
   "cell_type": "code",
   "execution_count": 116,
   "metadata": {},
   "outputs": [
    {
     "data": {
      "text/html": [
       "<div>\n",
       "<style scoped>\n",
       "    .dataframe tbody tr th:only-of-type {\n",
       "        vertical-align: middle;\n",
       "    }\n",
       "\n",
       "    .dataframe tbody tr th {\n",
       "        vertical-align: top;\n",
       "    }\n",
       "\n",
       "    .dataframe thead th {\n",
       "        text-align: right;\n",
       "    }\n",
       "</style>\n",
       "<table border=\"1\" class=\"dataframe\">\n",
       "  <thead>\n",
       "    <tr style=\"text-align: right;\">\n",
       "      <th>complainant_ethnicity</th>\n",
       "      <th>American Indian%</th>\n",
       "      <th>Asian%</th>\n",
       "      <th>Black%</th>\n",
       "      <th>Hispanic%</th>\n",
       "      <th>White%</th>\n",
       "      <th>index</th>\n",
       "    </tr>\n",
       "    <tr>\n",
       "      <th>fado_type</th>\n",
       "      <th></th>\n",
       "      <th></th>\n",
       "      <th></th>\n",
       "      <th></th>\n",
       "      <th></th>\n",
       "      <th></th>\n",
       "    </tr>\n",
       "  </thead>\n",
       "  <tbody>\n",
       "    <tr>\n",
       "      <th>Abuse of Authority</th>\n",
       "      <td>0.30</td>\n",
       "      <td>2.05</td>\n",
       "      <td>64.38</td>\n",
       "      <td>22.87</td>\n",
       "      <td>10.41</td>\n",
       "      <td>0</td>\n",
       "    </tr>\n",
       "    <tr>\n",
       "      <th>Discourtesy</th>\n",
       "      <td>0.21</td>\n",
       "      <td>2.27</td>\n",
       "      <td>58.78</td>\n",
       "      <td>26.13</td>\n",
       "      <td>12.62</td>\n",
       "      <td>1</td>\n",
       "    </tr>\n",
       "    <tr>\n",
       "      <th>Force</th>\n",
       "      <td>0.11</td>\n",
       "      <td>1.43</td>\n",
       "      <td>64.44</td>\n",
       "      <td>25.21</td>\n",
       "      <td>8.82</td>\n",
       "      <td>2</td>\n",
       "    </tr>\n",
       "    <tr>\n",
       "      <th>Offensive Language</th>\n",
       "      <td>0.17</td>\n",
       "      <td>3.37</td>\n",
       "      <td>64.81</td>\n",
       "      <td>21.04</td>\n",
       "      <td>10.61</td>\n",
       "      <td>3</td>\n",
       "    </tr>\n",
       "  </tbody>\n",
       "</table>\n",
       "</div>"
      ],
      "text/plain": [
       "complainant_ethnicity  American Indian%  Asian%  Black%  Hispanic%  White%  \\\n",
       "fado_type                                                                    \n",
       "Abuse of Authority                 0.30    2.05   64.38      22.87   10.41   \n",
       "Discourtesy                        0.21    2.27   58.78      26.13   12.62   \n",
       "Force                              0.11    1.43   64.44      25.21    8.82   \n",
       "Offensive Language                 0.17    3.37   64.81      21.04   10.61   \n",
       "\n",
       "complainant_ethnicity  index  \n",
       "fado_type                     \n",
       "Abuse of Authority         0  \n",
       "Discourtesy                1  \n",
       "Force                      2  \n",
       "Offensive Language         3  "
      ]
     },
     "execution_count": 116,
     "metadata": {},
     "output_type": "execute_result"
    }
   ],
   "source": [
    "Ethnicity_table.head()"
   ]
  },
  {
   "cell_type": "markdown",
   "metadata": {},
   "source": [
    "### Officer gender distribution per fado_type"
   ]
  },
  {
   "cell_type": "code",
   "execution_count": 117,
   "metadata": {},
   "outputs": [],
   "source": [
    "off_gender_percentage = df.pivot_table(values='complaint_id',columns='mos_gender',index='fado_type',aggfunc='count')\n"
   ]
  },
  {
   "cell_type": "code",
   "execution_count": 118,
   "metadata": {},
   "outputs": [
    {
     "data": {
      "text/html": [
       "<div>\n",
       "<style scoped>\n",
       "    .dataframe tbody tr th:only-of-type {\n",
       "        vertical-align: middle;\n",
       "    }\n",
       "\n",
       "    .dataframe tbody tr th {\n",
       "        vertical-align: top;\n",
       "    }\n",
       "\n",
       "    .dataframe thead th {\n",
       "        text-align: right;\n",
       "    }\n",
       "</style>\n",
       "<table border=\"1\" class=\"dataframe\">\n",
       "  <thead>\n",
       "    <tr style=\"text-align: right;\">\n",
       "      <th>mos_gender</th>\n",
       "      <th>F</th>\n",
       "      <th>M</th>\n",
       "    </tr>\n",
       "    <tr>\n",
       "      <th>fado_type</th>\n",
       "      <th></th>\n",
       "      <th></th>\n",
       "    </tr>\n",
       "  </thead>\n",
       "  <tbody>\n",
       "    <tr>\n",
       "      <th>Abuse of Authority</th>\n",
       "      <td>958</td>\n",
       "      <td>14867</td>\n",
       "    </tr>\n",
       "    <tr>\n",
       "      <th>Discourtesy</th>\n",
       "      <td>223</td>\n",
       "      <td>3566</td>\n",
       "    </tr>\n",
       "    <tr>\n",
       "      <th>Force</th>\n",
       "      <td>229</td>\n",
       "      <td>5940</td>\n",
       "    </tr>\n",
       "    <tr>\n",
       "      <th>Offensive Language</th>\n",
       "      <td>32</td>\n",
       "      <td>562</td>\n",
       "    </tr>\n",
       "  </tbody>\n",
       "</table>\n",
       "</div>"
      ],
      "text/plain": [
       "mos_gender            F      M\n",
       "fado_type                     \n",
       "Abuse of Authority  958  14867\n",
       "Discourtesy         223   3566\n",
       "Force               229   5940\n",
       "Offensive Language   32    562"
      ]
     },
     "execution_count": 118,
     "metadata": {},
     "output_type": "execute_result"
    }
   ],
   "source": [
    "off_gender_percentage"
   ]
  },
  {
   "cell_type": "code",
   "execution_count": 119,
   "metadata": {},
   "outputs": [
    {
     "data": {
      "text/plain": [
       "Abuse of Authority    15825\n",
       "Force                  6169\n",
       "Discourtesy            3789\n",
       "Offensive Language      594\n",
       "Name: fado_type, dtype: int64"
      ]
     },
     "execution_count": 119,
     "metadata": {},
     "output_type": "execute_result"
    }
   ],
   "source": [
    "# A general value count of fado type feature\n",
    "df.fado_type.value_counts()"
   ]
  },
  {
   "cell_type": "markdown",
   "metadata": {},
   "source": [
    "### Officer gender distribution percentages "
   ]
  },
  {
   "cell_type": "code",
   "execution_count": 120,
   "metadata": {},
   "outputs": [],
   "source": [
    "Total_gender = (off_gender_percentage['F'] + off_gender_percentage['M'])\n",
    "off_gender_percentage['Female Officer %'] = round(off_gender_percentage['F']/Total_gender * 100,2)\n",
    "off_gender_percentage['Male Officer %'] = round(off_gender_percentage['M']/Total_gender * 100,2)\n",
    "off_gender_percentage.drop(['F','M'],axis=1,inplace=True)"
   ]
  },
  {
   "cell_type": "code",
   "execution_count": 121,
   "metadata": {},
   "outputs": [
    {
     "data": {
      "text/html": [
       "<div>\n",
       "<style scoped>\n",
       "    .dataframe tbody tr th:only-of-type {\n",
       "        vertical-align: middle;\n",
       "    }\n",
       "\n",
       "    .dataframe tbody tr th {\n",
       "        vertical-align: top;\n",
       "    }\n",
       "\n",
       "    .dataframe thead th {\n",
       "        text-align: right;\n",
       "    }\n",
       "</style>\n",
       "<table border=\"1\" class=\"dataframe\">\n",
       "  <thead>\n",
       "    <tr style=\"text-align: right;\">\n",
       "      <th>mos_gender</th>\n",
       "      <th>Female Officer %</th>\n",
       "      <th>Male Officer %</th>\n",
       "    </tr>\n",
       "    <tr>\n",
       "      <th>fado_type</th>\n",
       "      <th></th>\n",
       "      <th></th>\n",
       "    </tr>\n",
       "  </thead>\n",
       "  <tbody>\n",
       "    <tr>\n",
       "      <th>Abuse of Authority</th>\n",
       "      <td>6.05</td>\n",
       "      <td>93.95</td>\n",
       "    </tr>\n",
       "    <tr>\n",
       "      <th>Discourtesy</th>\n",
       "      <td>5.89</td>\n",
       "      <td>94.11</td>\n",
       "    </tr>\n",
       "    <tr>\n",
       "      <th>Force</th>\n",
       "      <td>3.71</td>\n",
       "      <td>96.29</td>\n",
       "    </tr>\n",
       "    <tr>\n",
       "      <th>Offensive Language</th>\n",
       "      <td>5.39</td>\n",
       "      <td>94.61</td>\n",
       "    </tr>\n",
       "  </tbody>\n",
       "</table>\n",
       "</div>"
      ],
      "text/plain": [
       "mos_gender          Female Officer %  Male Officer %\n",
       "fado_type                                           \n",
       "Abuse of Authority              6.05           93.95\n",
       "Discourtesy                     5.89           94.11\n",
       "Force                           3.71           96.29\n",
       "Offensive Language              5.39           94.61"
      ]
     },
     "execution_count": 121,
     "metadata": {},
     "output_type": "execute_result"
    }
   ],
   "source": [
    "off_gender_percentage"
   ]
  },
  {
   "cell_type": "code",
   "execution_count": 8,
   "metadata": {},
   "outputs": [],
   "source": [
    "# df.ComplaintID.value_counts()\n",
    "# df.ShieldNo.value_counts()\n",
    "#df.NYPDDisposition.value_counts()"
   ]
  },
  {
   "cell_type": "code",
   "execution_count": 105,
   "metadata": {},
   "outputs": [],
   "source": [
    "# Replace negative values, 0s and 220 with the mean\n",
    "#condition = df[(df.ImpactedAge >= 0.0) & (df.ImpactedAge <= 100)]\n",
    "#condition = df[df.ImpactedAge >= 0.0]\n",
    "#df.ImpactedAge.fillna(value = np.mean(df.ImpactedAge),inplace=True)\n",
    "# df[condition] = np.nan\n",
    "# df[condition2] = np.nan\n",
    "#df.ImpactedAge.value_counts()\n",
    "# Select Brooklyn\n",
    "# condition_1 = df['neighbourhood_group'] == 'Brooklyn'\n",
    "\n",
    "# # Select Prices that are higher than 500\n",
    "# condition_2 = df['price'] > 500\n",
    "\n",
    "# # Select all data that meets both requirments\n",
    "# bk_high = df[condition_1 & condition_2]\n",
    "# bk_high.head()\n",
    "# No_race = {'nan':np.nan,'Refused':np.nan,'Unknown':np.nan,'Other Race':np.nan}\n",
    "# df.ImpactedRace = df.ImpactedRace.replace(No_race)\n",
    "# df.dropna(subset=['ImpactedRace'],how='any',axis=0,inplace=True)\n",
    "# df.ImpactedRace.unique()"
   ]
  },
  {
   "cell_type": "code",
   "execution_count": 123,
   "metadata": {},
   "outputs": [
    {
     "ename": "AttributeError",
     "evalue": "'DataFrame' object has no attribute 'PenaltyRec'",
     "output_type": "error",
     "traceback": [
      "\u001b[0;31m---------------------------------------------------------------------------\u001b[0m",
      "\u001b[0;31mAttributeError\u001b[0m                            Traceback (most recent call last)",
      "\u001b[0;32m<ipython-input-123-fff3bd4a8503>\u001b[0m in \u001b[0;36m<module>\u001b[0;34m\u001b[0m\n\u001b[0;32m----> 1\u001b[0;31m \u001b[0mdf\u001b[0m\u001b[0;34m.\u001b[0m\u001b[0mPenaltyRec\u001b[0m\u001b[0;34m.\u001b[0m\u001b[0munique\u001b[0m\u001b[0;34m(\u001b[0m\u001b[0;34m)\u001b[0m\u001b[0;34m\u001b[0m\u001b[0;34m\u001b[0m\u001b[0m\n\u001b[0m",
      "\u001b[0;32m~/anaconda3/lib/python3.7/site-packages/pandas/core/generic.py\u001b[0m in \u001b[0;36m__getattr__\u001b[0;34m(self, name)\u001b[0m\n\u001b[1;32m   5485\u001b[0m         ):\n\u001b[1;32m   5486\u001b[0m             \u001b[0;32mreturn\u001b[0m \u001b[0mself\u001b[0m\u001b[0;34m[\u001b[0m\u001b[0mname\u001b[0m\u001b[0;34m]\u001b[0m\u001b[0;34m\u001b[0m\u001b[0;34m\u001b[0m\u001b[0m\n\u001b[0;32m-> 5487\u001b[0;31m         \u001b[0;32mreturn\u001b[0m \u001b[0mobject\u001b[0m\u001b[0;34m.\u001b[0m\u001b[0m__getattribute__\u001b[0m\u001b[0;34m(\u001b[0m\u001b[0mself\u001b[0m\u001b[0;34m,\u001b[0m \u001b[0mname\u001b[0m\u001b[0;34m)\u001b[0m\u001b[0;34m\u001b[0m\u001b[0;34m\u001b[0m\u001b[0m\n\u001b[0m\u001b[1;32m   5488\u001b[0m \u001b[0;34m\u001b[0m\u001b[0m\n\u001b[1;32m   5489\u001b[0m     \u001b[0;32mdef\u001b[0m \u001b[0m__setattr__\u001b[0m\u001b[0;34m(\u001b[0m\u001b[0mself\u001b[0m\u001b[0;34m,\u001b[0m \u001b[0mname\u001b[0m\u001b[0;34m:\u001b[0m \u001b[0mstr\u001b[0m\u001b[0;34m,\u001b[0m \u001b[0mvalue\u001b[0m\u001b[0;34m)\u001b[0m \u001b[0;34m->\u001b[0m \u001b[0;32mNone\u001b[0m\u001b[0;34m:\u001b[0m\u001b[0;34m\u001b[0m\u001b[0;34m\u001b[0m\u001b[0m\n",
      "\u001b[0;31mAttributeError\u001b[0m: 'DataFrame' object has no attribute 'PenaltyRec'"
     ]
    }
   ],
   "source": [
    "df.PenaltyRec.unique()"
   ]
  },
  {
   "cell_type": "code",
   "execution_count": 40,
   "metadata": {},
   "outputs": [],
   "source": [
    "df.ImpactedAge.fillna(value = np.mean(df.ImpactedAge), inplace = True)\n",
    "#train_df1.item_cnt_day.fillna(train_df1.category_mean)"
   ]
  },
  {
   "cell_type": "code",
   "execution_count": 42,
   "metadata": {},
   "outputs": [
    {
     "data": {
      "text/plain": [
       "AsOfDate               179\n",
       "AllegationID           179\n",
       "OfficerRace            179\n",
       "OfficerGender          179\n",
       "OfficerID              179\n",
       "CurrentRank            179\n",
       "CurrentRankLong        179\n",
       "CurrentCommand         179\n",
       "IncidentRank           215\n",
       "IncidentRankLong       215\n",
       "IncidentCommand        265\n",
       "DaysOnForce            179\n",
       "Status                 179\n",
       "LastActive             179\n",
       "IncidentDate           185\n",
       "FADOType               179\n",
       "Allegation             179\n",
       "CCRBDisposition        179\n",
       "BoardCat               179\n",
       "PenaltyRec          130019\n",
       "NYPDDisposition     131021\n",
       "PenaltyDesc         132298\n",
       "LocationType          2872\n",
       "ContactReason          179\n",
       "ContactOutcome         179\n",
       "IncidentPrecinct       179\n",
       "ImpactedRace           179\n",
       "ImpactedGender         179\n",
       "ImpactedAge              0\n",
       "OficerName             179\n",
       "year_closed            179\n",
       "month_closed           179\n",
       "year_received          179\n",
       "month_received         179\n",
       "dtype: int64"
      ]
     },
     "execution_count": 42,
     "metadata": {},
     "output_type": "execute_result"
    }
   ],
   "source": [
    "df.isnull().sum()"
   ]
  },
  {
   "cell_type": "code",
   "execution_count": 57,
   "metadata": {},
   "outputs": [
    {
     "data": {
      "text/plain": [
       "Index(['unique_mos_id', 'command_now', 'shield_no', 'complaint_id',\n",
       "       'month_received', 'year_received', 'month_closed', 'year_closed',\n",
       "       'command_at_incident', 'rank_abbrev_incident', 'rank_abbrev_now',\n",
       "       'rank_now', 'rank_incident', 'mos_ethnicity', 'mos_gender',\n",
       "       'mos_age_incident', 'complainant_ethnicity', 'complainant_gender',\n",
       "       'complainant_age_incident', 'fado_type', 'allegation', 'precinct',\n",
       "       'contact_reason', 'outcome_description', 'board_disposition',\n",
       "       'OficerName'],\n",
       "      dtype='object')"
      ]
     },
     "execution_count": 57,
     "metadata": {},
     "output_type": "execute_result"
    }
   ],
   "source": [
    "df.columns"
   ]
  },
  {
   "cell_type": "code",
   "execution_count": 59,
   "metadata": {},
   "outputs": [],
   "source": [
    "df['Officer_age_group'] =  round((df.mos_age_incident//10)*10 , 0)"
   ]
  },
  {
   "cell_type": "code",
   "execution_count": 60,
   "metadata": {},
   "outputs": [
    {
     "data": {
      "text/plain": [
       "30    13668\n",
       "20     9542\n",
       "40     3169\n",
       "50      168\n",
       "60        2\n",
       "Name: Officer_age_group, dtype: int64"
      ]
     },
     "execution_count": 60,
     "metadata": {},
     "output_type": "execute_result"
    }
   ],
   "source": [
    "df.Officer_age_group.value_counts()"
   ]
  },
  {
   "cell_type": "markdown",
   "metadata": {},
   "source": [
    "## Questions to ask the data"
   ]
  },
  {
   "cell_type": "markdown",
   "metadata": {},
   "source": [
    " ```\n",
    " Are officers with multiples allegetion allow to continue working?\n",
    " The types of complaints that are most common?\n",
    " The places where misconduct is prevalent?\n",
    " The affected communities?\n",
    " Compare rates of officer gender\n",
    " Compare rates of type of allegation\n",
    " See if what are the common substantiated cases/allegation mapping\n",
    " ```"
   ]
  },
  {
   "cell_type": "markdown",
   "metadata": {},
   "source": [
    "***\n",
    "#### Most commond type of misconduct\n",
    "***"
   ]
  },
  {
   "cell_type": "code",
   "execution_count": 62,
   "metadata": {},
   "outputs": [
    {
     "data": {
      "text/plain": [
       "Abuse of Authority    60.0%\n",
       "Force                 23.3%\n",
       "Discourtesy           14.4%\n",
       "Offensive Language     2.3%\n",
       "Name: fado_type, dtype: object"
      ]
     },
     "execution_count": 62,
     "metadata": {},
     "output_type": "execute_result"
    }
   ],
   "source": [
    "allegation_percentage = df.fado_type.value_counts(normalize = True).mul(100).round(1).astype(str) + '%'\n",
    "allegation_percentage"
   ]
  },
  {
   "cell_type": "code",
   "execution_count": 63,
   "metadata": {},
   "outputs": [
    {
     "data": {
      "text/plain": [
       "M    94.5%\n",
       "F     5.5%\n",
       "Name: mos_gender, dtype: object"
      ]
     },
     "execution_count": 63,
     "metadata": {},
     "output_type": "execute_result"
    }
   ],
   "source": [
    "Off_gender_dist = df.mos_gender.value_counts(normalize = True).mul(100).round(1).astype(str) + '%'\n",
    "Off_gender_dist"
   ]
  },
  {
   "cell_type": "code",
   "execution_count": 99,
   "metadata": {},
   "outputs": [
    {
     "data": {
      "text/html": [
       "<div>\n",
       "<style scoped>\n",
       "    .dataframe tbody tr th:only-of-type {\n",
       "        vertical-align: middle;\n",
       "    }\n",
       "\n",
       "    .dataframe tbody tr th {\n",
       "        vertical-align: top;\n",
       "    }\n",
       "\n",
       "    .dataframe thead th {\n",
       "        text-align: right;\n",
       "    }\n",
       "</style>\n",
       "<table border=\"1\" class=\"dataframe\">\n",
       "  <thead>\n",
       "    <tr style=\"text-align: right;\">\n",
       "      <th></th>\n",
       "      <th>FADOType</th>\n",
       "      <th>Allegation</th>\n",
       "      <th>OfficerGender</th>\n",
       "      <th>AllegationID</th>\n",
       "    </tr>\n",
       "  </thead>\n",
       "  <tbody>\n",
       "    <tr>\n",
       "      <th>182</th>\n",
       "      <td>Offensive Language</td>\n",
       "      <td>Race</td>\n",
       "      <td>Male</td>\n",
       "      <td>2066</td>\n",
       "    </tr>\n",
       "    <tr>\n",
       "      <th>183</th>\n",
       "      <td>Offensive Language</td>\n",
       "      <td>Religion</td>\n",
       "      <td>Female</td>\n",
       "      <td>17</td>\n",
       "    </tr>\n",
       "    <tr>\n",
       "      <th>184</th>\n",
       "      <td>Offensive Language</td>\n",
       "      <td>Religion</td>\n",
       "      <td>Male</td>\n",
       "      <td>113</td>\n",
       "    </tr>\n",
       "    <tr>\n",
       "      <th>185</th>\n",
       "      <td>Offensive Language</td>\n",
       "      <td>Sexual orientation</td>\n",
       "      <td>Female</td>\n",
       "      <td>26</td>\n",
       "    </tr>\n",
       "    <tr>\n",
       "      <th>186</th>\n",
       "      <td>Offensive Language</td>\n",
       "      <td>Sexual orientation</td>\n",
       "      <td>Male</td>\n",
       "      <td>371</td>\n",
       "    </tr>\n",
       "  </tbody>\n",
       "</table>\n",
       "</div>"
      ],
      "text/plain": [
       "               FADOType          Allegation OfficerGender  AllegationID\n",
       "182  Offensive Language                Race          Male          2066\n",
       "183  Offensive Language            Religion        Female            17\n",
       "184  Offensive Language            Religion          Male           113\n",
       "185  Offensive Language  Sexual orientation        Female            26\n",
       "186  Offensive Language  Sexual orientation          Male           371"
      ]
     },
     "execution_count": 99,
     "metadata": {},
     "output_type": "execute_result"
    }
   ],
   "source": [
    "gb = dff.groupby(['FADOType','Allegation','OfficerGender'])['AllegationID'].count()\n",
    "gb = gb.reset_index()\n",
    "gb.tail(5)"
   ]
  },
  {
   "cell_type": "code",
   "execution_count": 32,
   "metadata": {},
   "outputs": [
    {
     "data": {
      "text/html": [
       "<div>\n",
       "<style scoped>\n",
       "    .dataframe tbody tr th:only-of-type {\n",
       "        vertical-align: middle;\n",
       "    }\n",
       "\n",
       "    .dataframe tbody tr th {\n",
       "        vertical-align: top;\n",
       "    }\n",
       "\n",
       "    .dataframe thead th {\n",
       "        text-align: right;\n",
       "    }\n",
       "</style>\n",
       "<table border=\"1\" class=\"dataframe\">\n",
       "  <thead>\n",
       "    <tr style=\"text-align: right;\">\n",
       "      <th></th>\n",
       "      <th>FADOType</th>\n",
       "      <th>Allegation</th>\n",
       "      <th>AllegationID</th>\n",
       "    </tr>\n",
       "  </thead>\n",
       "  <tbody>\n",
       "    <tr>\n",
       "      <th>0</th>\n",
       "      <td>Abuse Of Authority</td>\n",
       "      <td>Abuse of Authority</td>\n",
       "      <td>5568</td>\n",
       "    </tr>\n",
       "    <tr>\n",
       "      <th>1</th>\n",
       "      <td>Abuse Of Authority</td>\n",
       "      <td>Arrest/D. A. T.</td>\n",
       "      <td>439</td>\n",
       "    </tr>\n",
       "    <tr>\n",
       "      <th>2</th>\n",
       "      <td>Abuse Of Authority</td>\n",
       "      <td>Arrest/Onlooker</td>\n",
       "      <td>171</td>\n",
       "    </tr>\n",
       "    <tr>\n",
       "      <th>3</th>\n",
       "      <td>Abuse Of Authority</td>\n",
       "      <td>Body Cavity Searches</td>\n",
       "      <td>18</td>\n",
       "    </tr>\n",
       "    <tr>\n",
       "      <th>4</th>\n",
       "      <td>Abuse Of Authority</td>\n",
       "      <td>Detention</td>\n",
       "      <td>617</td>\n",
       "    </tr>\n",
       "    <tr>\n",
       "      <th>5</th>\n",
       "      <td>Abuse Of Authority</td>\n",
       "      <td>Electronic device information deletion</td>\n",
       "      <td>28</td>\n",
       "    </tr>\n",
       "    <tr>\n",
       "      <th>6</th>\n",
       "      <td>Abuse Of Authority</td>\n",
       "      <td>Entry of Premises</td>\n",
       "      <td>1405</td>\n",
       "    </tr>\n",
       "    <tr>\n",
       "      <th>7</th>\n",
       "      <td>Abuse Of Authority</td>\n",
       "      <td>Failed to Obtain Language Interpretation</td>\n",
       "      <td>30</td>\n",
       "    </tr>\n",
       "    <tr>\n",
       "      <th>8</th>\n",
       "      <td>Abuse Of Authority</td>\n",
       "      <td>Failure to provide RTKA card</td>\n",
       "      <td>445</td>\n",
       "    </tr>\n",
       "    <tr>\n",
       "      <th>9</th>\n",
       "      <td>Abuse Of Authority</td>\n",
       "      <td>Forcible Removal to Hospital</td>\n",
       "      <td>825</td>\n",
       "    </tr>\n",
       "    <tr>\n",
       "      <th>63</th>\n",
       "      <td>Discourtesy</td>\n",
       "      <td>Action</td>\n",
       "      <td>2174</td>\n",
       "    </tr>\n",
       "    <tr>\n",
       "      <th>64</th>\n",
       "      <td>Discourtesy</td>\n",
       "      <td>Curse</td>\n",
       "      <td>9642</td>\n",
       "    </tr>\n",
       "    <tr>\n",
       "      <th>65</th>\n",
       "      <td>Discourtesy</td>\n",
       "      <td>Demeanor/tone</td>\n",
       "      <td>1130</td>\n",
       "    </tr>\n",
       "    <tr>\n",
       "      <th>66</th>\n",
       "      <td>Discourtesy</td>\n",
       "      <td>Discourtesy</td>\n",
       "      <td>3955</td>\n",
       "    </tr>\n",
       "    <tr>\n",
       "      <th>67</th>\n",
       "      <td>Discourtesy</td>\n",
       "      <td>Gay/Lesbian Slur</td>\n",
       "      <td>198</td>\n",
       "    </tr>\n",
       "    <tr>\n",
       "      <th>68</th>\n",
       "      <td>Discourtesy</td>\n",
       "      <td>Gesture</td>\n",
       "      <td>404</td>\n",
       "    </tr>\n",
       "    <tr>\n",
       "      <th>69</th>\n",
       "      <td>Discourtesy</td>\n",
       "      <td>Nasty Words</td>\n",
       "      <td>4458</td>\n",
       "    </tr>\n",
       "    <tr>\n",
       "      <th>70</th>\n",
       "      <td>Discourtesy</td>\n",
       "      <td>Other</td>\n",
       "      <td>213</td>\n",
       "    </tr>\n",
       "    <tr>\n",
       "      <th>71</th>\n",
       "      <td>Discourtesy</td>\n",
       "      <td>Other- Discourtesy</td>\n",
       "      <td>1429</td>\n",
       "    </tr>\n",
       "    <tr>\n",
       "      <th>72</th>\n",
       "      <td>Discourtesy</td>\n",
       "      <td>Profane Gesture</td>\n",
       "      <td>209</td>\n",
       "    </tr>\n",
       "    <tr>\n",
       "      <th>76</th>\n",
       "      <td>Force</td>\n",
       "      <td>Animal</td>\n",
       "      <td>29</td>\n",
       "    </tr>\n",
       "    <tr>\n",
       "      <th>77</th>\n",
       "      <td>Force</td>\n",
       "      <td>Beat</td>\n",
       "      <td>3559</td>\n",
       "    </tr>\n",
       "    <tr>\n",
       "      <th>78</th>\n",
       "      <td>Force</td>\n",
       "      <td>Chokehold</td>\n",
       "      <td>1770</td>\n",
       "    </tr>\n",
       "    <tr>\n",
       "      <th>79</th>\n",
       "      <td>Force</td>\n",
       "      <td>Dragged/Pulled</td>\n",
       "      <td>2351</td>\n",
       "    </tr>\n",
       "    <tr>\n",
       "      <th>80</th>\n",
       "      <td>Force</td>\n",
       "      <td>Flashlight as club</td>\n",
       "      <td>492</td>\n",
       "    </tr>\n",
       "    <tr>\n",
       "      <th>81</th>\n",
       "      <td>Force</td>\n",
       "      <td>Force</td>\n",
       "      <td>10167</td>\n",
       "    </tr>\n",
       "    <tr>\n",
       "      <th>82</th>\n",
       "      <td>Force</td>\n",
       "      <td>Gun as club</td>\n",
       "      <td>621</td>\n",
       "    </tr>\n",
       "    <tr>\n",
       "      <th>83</th>\n",
       "      <td>Force</td>\n",
       "      <td>Gun fired</td>\n",
       "      <td>410</td>\n",
       "    </tr>\n",
       "    <tr>\n",
       "      <th>84</th>\n",
       "      <td>Force</td>\n",
       "      <td>Gun pointed</td>\n",
       "      <td>4767</td>\n",
       "    </tr>\n",
       "    <tr>\n",
       "      <th>85</th>\n",
       "      <td>Force</td>\n",
       "      <td>Handcuffs too tight</td>\n",
       "      <td>697</td>\n",
       "    </tr>\n",
       "    <tr>\n",
       "      <th>103</th>\n",
       "      <td>Offensive Language</td>\n",
       "      <td>Black</td>\n",
       "      <td>2319</td>\n",
       "    </tr>\n",
       "    <tr>\n",
       "      <th>104</th>\n",
       "      <td>Offensive Language</td>\n",
       "      <td>Ethnic Slur</td>\n",
       "      <td>430</td>\n",
       "    </tr>\n",
       "    <tr>\n",
       "      <th>105</th>\n",
       "      <td>Offensive Language</td>\n",
       "      <td>Ethnicity</td>\n",
       "      <td>967</td>\n",
       "    </tr>\n",
       "    <tr>\n",
       "      <th>106</th>\n",
       "      <td>Offensive Language</td>\n",
       "      <td>Gender</td>\n",
       "      <td>744</td>\n",
       "    </tr>\n",
       "    <tr>\n",
       "      <th>107</th>\n",
       "      <td>Offensive Language</td>\n",
       "      <td>Gender Identity</td>\n",
       "      <td>13</td>\n",
       "    </tr>\n",
       "    <tr>\n",
       "      <th>108</th>\n",
       "      <td>Offensive Language</td>\n",
       "      <td>Hispanic</td>\n",
       "      <td>550</td>\n",
       "    </tr>\n",
       "    <tr>\n",
       "      <th>109</th>\n",
       "      <td>Offensive Language</td>\n",
       "      <td>Jewish</td>\n",
       "      <td>130</td>\n",
       "    </tr>\n",
       "    <tr>\n",
       "      <th>110</th>\n",
       "      <td>Offensive Language</td>\n",
       "      <td>Oriental</td>\n",
       "      <td>44</td>\n",
       "    </tr>\n",
       "    <tr>\n",
       "      <th>111</th>\n",
       "      <td>Offensive Language</td>\n",
       "      <td>Other</td>\n",
       "      <td>264</td>\n",
       "    </tr>\n",
       "    <tr>\n",
       "      <th>112</th>\n",
       "      <td>Offensive Language</td>\n",
       "      <td>Other - Ethnic Slur</td>\n",
       "      <td>724</td>\n",
       "    </tr>\n",
       "    <tr>\n",
       "      <th>119</th>\n",
       "      <td>Untruthful Statement</td>\n",
       "      <td>False official statement</td>\n",
       "      <td>1</td>\n",
       "    </tr>\n",
       "    <tr>\n",
       "      <th>120</th>\n",
       "      <td>Untruthful Statement</td>\n",
       "      <td>Inaccurate official statement</td>\n",
       "      <td>1</td>\n",
       "    </tr>\n",
       "    <tr>\n",
       "      <th>121</th>\n",
       "      <td>Untruthful Statement</td>\n",
       "      <td>Misleading official statement</td>\n",
       "      <td>1</td>\n",
       "    </tr>\n",
       "  </tbody>\n",
       "</table>\n",
       "</div>"
      ],
      "text/plain": [
       "                 FADOType                                Allegation  \\\n",
       "0      Abuse Of Authority                        Abuse of Authority   \n",
       "1      Abuse Of Authority                           Arrest/D. A. T.   \n",
       "2      Abuse Of Authority                           Arrest/Onlooker   \n",
       "3      Abuse Of Authority                      Body Cavity Searches   \n",
       "4      Abuse Of Authority                                 Detention   \n",
       "5      Abuse Of Authority    Electronic device information deletion   \n",
       "6      Abuse Of Authority                         Entry of Premises   \n",
       "7      Abuse Of Authority  Failed to Obtain Language Interpretation   \n",
       "8      Abuse Of Authority              Failure to provide RTKA card   \n",
       "9      Abuse Of Authority              Forcible Removal to Hospital   \n",
       "63            Discourtesy                                    Action   \n",
       "64            Discourtesy                                     Curse   \n",
       "65            Discourtesy                             Demeanor/tone   \n",
       "66            Discourtesy                               Discourtesy   \n",
       "67            Discourtesy                          Gay/Lesbian Slur   \n",
       "68            Discourtesy                                   Gesture   \n",
       "69            Discourtesy                               Nasty Words   \n",
       "70            Discourtesy                                     Other   \n",
       "71            Discourtesy                        Other- Discourtesy   \n",
       "72            Discourtesy                           Profane Gesture   \n",
       "76                  Force                                    Animal   \n",
       "77                  Force                                      Beat   \n",
       "78                  Force                                 Chokehold   \n",
       "79                  Force                            Dragged/Pulled   \n",
       "80                  Force                        Flashlight as club   \n",
       "81                  Force                                     Force   \n",
       "82                  Force                               Gun as club   \n",
       "83                  Force                                 Gun fired   \n",
       "84                  Force                               Gun pointed   \n",
       "85                  Force                       Handcuffs too tight   \n",
       "103    Offensive Language                                     Black   \n",
       "104    Offensive Language                               Ethnic Slur   \n",
       "105    Offensive Language                                 Ethnicity   \n",
       "106    Offensive Language                                    Gender   \n",
       "107    Offensive Language                           Gender Identity   \n",
       "108    Offensive Language                                  Hispanic   \n",
       "109    Offensive Language                                    Jewish   \n",
       "110    Offensive Language                                  Oriental   \n",
       "111    Offensive Language                                     Other   \n",
       "112    Offensive Language                       Other - Ethnic Slur   \n",
       "119  Untruthful Statement                  False official statement   \n",
       "120  Untruthful Statement             Inaccurate official statement   \n",
       "121  Untruthful Statement             Misleading official statement   \n",
       "\n",
       "     AllegationID  \n",
       "0            5568  \n",
       "1             439  \n",
       "2             171  \n",
       "3              18  \n",
       "4             617  \n",
       "5              28  \n",
       "6            1405  \n",
       "7              30  \n",
       "8             445  \n",
       "9             825  \n",
       "63           2174  \n",
       "64           9642  \n",
       "65           1130  \n",
       "66           3955  \n",
       "67            198  \n",
       "68            404  \n",
       "69           4458  \n",
       "70            213  \n",
       "71           1429  \n",
       "72            209  \n",
       "76             29  \n",
       "77           3559  \n",
       "78           1770  \n",
       "79           2351  \n",
       "80            492  \n",
       "81          10167  \n",
       "82            621  \n",
       "83            410  \n",
       "84           4767  \n",
       "85            697  \n",
       "103          2319  \n",
       "104           430  \n",
       "105           967  \n",
       "106           744  \n",
       "107            13  \n",
       "108           550  \n",
       "109           130  \n",
       "110            44  \n",
       "111           264  \n",
       "112           724  \n",
       "119             1  \n",
       "120             1  \n",
       "121             1  "
      ]
     },
     "execution_count": 32,
     "metadata": {},
     "output_type": "execute_result"
    }
   ],
   "source": []
  },
  {
   "cell_type": "code",
   "execution_count": 58,
   "metadata": {},
   "outputs": [
    {
     "name": "stderr",
     "output_type": "stream",
     "text": [
      "/Users/jorgegranda/anaconda3/lib/python3.7/site-packages/pandas/core/apply.py:507: FutureWarning: Dropping invalid columns in DataFrameGroupBy.mean is deprecated. In a future version, a TypeError will be raised. Before calling .mean, select only columns which should be valid for the function.\n",
      "  return self._try_aggregate_string_function(obj, f, *self.args, **self.kwargs)\n"
     ]
    },
    {
     "data": {
      "text/html": [
       "<div>\n",
       "<style scoped>\n",
       "    .dataframe tbody tr th:only-of-type {\n",
       "        vertical-align: middle;\n",
       "    }\n",
       "\n",
       "    .dataframe tbody tr th {\n",
       "        vertical-align: top;\n",
       "    }\n",
       "\n",
       "    .dataframe thead th {\n",
       "        text-align: right;\n",
       "    }\n",
       "</style>\n",
       "<table border=\"1\" class=\"dataframe\">\n",
       "  <thead>\n",
       "    <tr style=\"text-align: right;\">\n",
       "      <th></th>\n",
       "    </tr>\n",
       "    <tr>\n",
       "      <th>FADOType</th>\n",
       "    </tr>\n",
       "  </thead>\n",
       "  <tbody>\n",
       "    <tr>\n",
       "      <th>Abuse Of Authority</th>\n",
       "    </tr>\n",
       "    <tr>\n",
       "      <th>Discourtesy</th>\n",
       "    </tr>\n",
       "    <tr>\n",
       "      <th>Force</th>\n",
       "    </tr>\n",
       "    <tr>\n",
       "      <th>Offensive Language</th>\n",
       "    </tr>\n",
       "  </tbody>\n",
       "</table>\n",
       "</div>"
      ],
      "text/plain": [
       "Empty DataFrame\n",
       "Columns: []\n",
       "Index: [Abuse Of Authority, Discourtesy, Force, Offensive Language]"
      ]
     },
     "execution_count": 58,
     "metadata": {},
     "output_type": "execute_result"
    }
   ],
   "source": [
    "gb.pivot_table(index = ['FADOType'], values = 'OfficerGender')\n",
    "#weather_molten.pivot_table(index=['id', 'date'], columns='element', values='value')"
   ]
  },
  {
   "cell_type": "code",
   "execution_count": 60,
   "metadata": {},
   "outputs": [],
   "source": [
    "condition = df.OfficerGender == 'Male'"
   ]
  },
  {
   "cell_type": "code",
   "execution_count": null,
   "metadata": {},
   "outputs": [],
   "source": []
  },
  {
   "cell_type": "code",
   "execution_count": 63,
   "metadata": {},
   "outputs": [],
   "source": [
    "gb2 = df.groupby('FADOType')['OfficerGender'].sum()"
   ]
  },
  {
   "cell_type": "code",
   "execution_count": 68,
   "metadata": {},
   "outputs": [],
   "source": [
    "gb2 = gb2.reset_index()"
   ]
  },
  {
   "cell_type": "code",
   "execution_count": 18,
   "metadata": {},
   "outputs": [
    {
     "data": {
      "text/html": [
       "<div>\n",
       "<style scoped>\n",
       "    .dataframe tbody tr th:only-of-type {\n",
       "        vertical-align: middle;\n",
       "    }\n",
       "\n",
       "    .dataframe tbody tr th {\n",
       "        vertical-align: top;\n",
       "    }\n",
       "\n",
       "    .dataframe thead th {\n",
       "        text-align: right;\n",
       "    }\n",
       "</style>\n",
       "<table border=\"1\" class=\"dataframe\">\n",
       "  <thead>\n",
       "    <tr style=\"text-align: right;\">\n",
       "      <th></th>\n",
       "      <th>AsOfDate</th>\n",
       "      <th>AllegationID</th>\n",
       "      <th>LastName</th>\n",
       "      <th>FirstName</th>\n",
       "      <th>OfficerRace</th>\n",
       "      <th>OfficerID</th>\n",
       "      <th>CurrentRank</th>\n",
       "      <th>CurrentRankLong</th>\n",
       "      <th>CurrentCommand</th>\n",
       "      <th>IncidentRank</th>\n",
       "      <th>...</th>\n",
       "      <th>ContactReason</th>\n",
       "      <th>ContactOutcome</th>\n",
       "      <th>IncidentPrecinct</th>\n",
       "      <th>ImpactedRace</th>\n",
       "      <th>ImpactedGender</th>\n",
       "      <th>ImpactedAge</th>\n",
       "      <th>ReceivedDate</th>\n",
       "      <th>CloseDate</th>\n",
       "      <th>OfficerGender_Female</th>\n",
       "      <th>OfficerGender_Male</th>\n",
       "    </tr>\n",
       "  </thead>\n",
       "  <tbody>\n",
       "    <tr>\n",
       "      <th>0</th>\n",
       "      <td>4/20/2021</td>\n",
       "      <td>1119144</td>\n",
       "      <td>Ruscillo</td>\n",
       "      <td>Taylor</td>\n",
       "      <td>White</td>\n",
       "      <td>54191</td>\n",
       "      <td>POF</td>\n",
       "      <td>Police Officer</td>\n",
       "      <td>MTN PCT</td>\n",
       "      <td>POF</td>\n",
       "      <td>...</td>\n",
       "      <td>Report-domestic dispute</td>\n",
       "      <td>No arrest made or summons issued</td>\n",
       "      <td>PCT 018</td>\n",
       "      <td>Hispanic</td>\n",
       "      <td>Male</td>\n",
       "      <td>29.0</td>\n",
       "      <td>2/15/2021</td>\n",
       "      <td>4/9/2021</td>\n",
       "      <td>1</td>\n",
       "      <td>0</td>\n",
       "    </tr>\n",
       "    <tr>\n",
       "      <th>1</th>\n",
       "      <td>4/20/2021</td>\n",
       "      <td>1116090</td>\n",
       "      <td>Medina</td>\n",
       "      <td>Nelson</td>\n",
       "      <td>Hispanic</td>\n",
       "      <td>76926</td>\n",
       "      <td>POM</td>\n",
       "      <td>Police Officer</td>\n",
       "      <td>TB DT02</td>\n",
       "      <td>POM</td>\n",
       "      <td>...</td>\n",
       "      <td>C/V intervened on behalf of/observed encounter...</td>\n",
       "      <td>Arrest - other violation/crime</td>\n",
       "      <td>PCT 014</td>\n",
       "      <td>Black</td>\n",
       "      <td>Male</td>\n",
       "      <td>43.0</td>\n",
       "      <td>1/13/2021</td>\n",
       "      <td>3/9/2021</td>\n",
       "      <td>0</td>\n",
       "      <td>1</td>\n",
       "    </tr>\n",
       "    <tr>\n",
       "      <th>2</th>\n",
       "      <td>4/20/2021</td>\n",
       "      <td>1116091</td>\n",
       "      <td>Pierre</td>\n",
       "      <td>Bebeto</td>\n",
       "      <td>Black</td>\n",
       "      <td>76976</td>\n",
       "      <td>POM</td>\n",
       "      <td>Police Officer</td>\n",
       "      <td>TB DT02</td>\n",
       "      <td>POM</td>\n",
       "      <td>...</td>\n",
       "      <td>C/V intervened on behalf of/observed encounter...</td>\n",
       "      <td>Arrest - other violation/crime</td>\n",
       "      <td>PCT 014</td>\n",
       "      <td>Black</td>\n",
       "      <td>Male</td>\n",
       "      <td>43.0</td>\n",
       "      <td>1/13/2021</td>\n",
       "      <td>3/9/2021</td>\n",
       "      <td>0</td>\n",
       "      <td>1</td>\n",
       "    </tr>\n",
       "    <tr>\n",
       "      <th>3</th>\n",
       "      <td>4/20/2021</td>\n",
       "      <td>1115473</td>\n",
       "      <td>Chapman</td>\n",
       "      <td>John</td>\n",
       "      <td>White</td>\n",
       "      <td>18497</td>\n",
       "      <td>POM</td>\n",
       "      <td>Police Officer</td>\n",
       "      <td>075 PCT</td>\n",
       "      <td>POM</td>\n",
       "      <td>...</td>\n",
       "      <td>Report-domestic dispute</td>\n",
       "      <td>No arrest made or summons issued</td>\n",
       "      <td>PCT 075</td>\n",
       "      <td>NaN</td>\n",
       "      <td>Male</td>\n",
       "      <td>57.0</td>\n",
       "      <td>1/11/2021</td>\n",
       "      <td>3/10/2021</td>\n",
       "      <td>0</td>\n",
       "      <td>1</td>\n",
       "    </tr>\n",
       "    <tr>\n",
       "      <th>4</th>\n",
       "      <td>4/20/2021</td>\n",
       "      <td>1115475</td>\n",
       "      <td>Tafuro</td>\n",
       "      <td>Justin</td>\n",
       "      <td>White</td>\n",
       "      <td>19003</td>\n",
       "      <td>POM</td>\n",
       "      <td>Police Officer</td>\n",
       "      <td>075 PCT</td>\n",
       "      <td>POM</td>\n",
       "      <td>...</td>\n",
       "      <td>Report-domestic dispute</td>\n",
       "      <td>No arrest made or summons issued</td>\n",
       "      <td>PCT 075</td>\n",
       "      <td>NaN</td>\n",
       "      <td>Male</td>\n",
       "      <td>57.0</td>\n",
       "      <td>1/11/2021</td>\n",
       "      <td>3/10/2021</td>\n",
       "      <td>0</td>\n",
       "      <td>1</td>\n",
       "    </tr>\n",
       "  </tbody>\n",
       "</table>\n",
       "<p>5 rows × 36 columns</p>\n",
       "</div>"
      ],
      "text/plain": [
       "    AsOfDate  AllegationID  LastName FirstName OfficerRace  OfficerID  \\\n",
       "0  4/20/2021       1119144  Ruscillo    Taylor       White      54191   \n",
       "1  4/20/2021       1116090    Medina    Nelson    Hispanic      76926   \n",
       "2  4/20/2021       1116091    Pierre    Bebeto       Black      76976   \n",
       "3  4/20/2021       1115473   Chapman      John       White      18497   \n",
       "4  4/20/2021       1115475    Tafuro    Justin       White      19003   \n",
       "\n",
       "  CurrentRank CurrentRankLong CurrentCommand IncidentRank  ...  \\\n",
       "0         POF  Police Officer        MTN PCT          POF  ...   \n",
       "1         POM  Police Officer        TB DT02          POM  ...   \n",
       "2         POM  Police Officer        TB DT02          POM  ...   \n",
       "3         POM  Police Officer        075 PCT          POM  ...   \n",
       "4         POM  Police Officer        075 PCT          POM  ...   \n",
       "\n",
       "                                       ContactReason  \\\n",
       "0                            Report-domestic dispute   \n",
       "1  C/V intervened on behalf of/observed encounter...   \n",
       "2  C/V intervened on behalf of/observed encounter...   \n",
       "3                            Report-domestic dispute   \n",
       "4                            Report-domestic dispute   \n",
       "\n",
       "                     ContactOutcome  IncidentPrecinct  ImpactedRace  \\\n",
       "0  No arrest made or summons issued           PCT 018      Hispanic   \n",
       "1    Arrest - other violation/crime           PCT 014         Black   \n",
       "2    Arrest - other violation/crime           PCT 014         Black   \n",
       "3  No arrest made or summons issued           PCT 075           NaN   \n",
       "4  No arrest made or summons issued           PCT 075           NaN   \n",
       "\n",
       "  ImpactedGender ImpactedAge  ReceivedDate  CloseDate OfficerGender_Female  \\\n",
       "0           Male        29.0     2/15/2021   4/9/2021                    1   \n",
       "1           Male        43.0     1/13/2021   3/9/2021                    0   \n",
       "2           Male        43.0     1/13/2021   3/9/2021                    0   \n",
       "3           Male        57.0     1/11/2021  3/10/2021                    0   \n",
       "4           Male        57.0     1/11/2021  3/10/2021                    0   \n",
       "\n",
       "  OfficerGender_Male  \n",
       "0                  0  \n",
       "1                  1  \n",
       "2                  1  \n",
       "3                  1  \n",
       "4                  1  \n",
       "\n",
       "[5 rows x 36 columns]"
      ]
     },
     "execution_count": 18,
     "metadata": {},
     "output_type": "execute_result"
    }
   ],
   "source": [
    "# gb = pd.get_dummies(df, columns=['OfficerGender'])\n",
    "# gb.head()\n",
    "dff = pd.get_dummies(dff, columns =['OfficerGender'])\n",
    "# gb = pd.get_dummies(gb, columns=['OfficerGender'])\n",
    "# gb.head()\n",
    "dff.head()"
   ]
  },
  {
   "cell_type": "code",
   "execution_count": 20,
   "metadata": {},
   "outputs": [
    {
     "data": {
      "text/plain": [
       "21902"
      ]
     },
     "execution_count": 20,
     "metadata": {},
     "output_type": "execute_result"
    }
   ],
   "source": [
    "dff['OfficerGender_Female'].sum()"
   ]
  },
  {
   "cell_type": "code",
   "execution_count": 21,
   "metadata": {},
   "outputs": [
    {
     "data": {
      "text/plain": [
       "257742"
      ]
     },
     "execution_count": 21,
     "metadata": {},
     "output_type": "execute_result"
    }
   ],
   "source": [
    "dff['OfficerGender_Male'].sum()"
   ]
  },
  {
   "cell_type": "code",
   "execution_count": 71,
   "metadata": {},
   "outputs": [
    {
     "data": {
      "text/html": [
       "<div>\n",
       "<style scoped>\n",
       "    .dataframe tbody tr th:only-of-type {\n",
       "        vertical-align: middle;\n",
       "    }\n",
       "\n",
       "    .dataframe tbody tr th {\n",
       "        vertical-align: top;\n",
       "    }\n",
       "\n",
       "    .dataframe thead th {\n",
       "        text-align: right;\n",
       "    }\n",
       "</style>\n",
       "<table border=\"1\" class=\"dataframe\">\n",
       "  <thead>\n",
       "    <tr style=\"text-align: right;\">\n",
       "      <th></th>\n",
       "      <th>FADOType</th>\n",
       "      <th>OfficerGender</th>\n",
       "      <th>ComplaintID</th>\n",
       "    </tr>\n",
       "  </thead>\n",
       "  <tbody>\n",
       "    <tr>\n",
       "      <th>0</th>\n",
       "      <td>Abuse Of Authority</td>\n",
       "      <td>Female</td>\n",
       "      <td>6015</td>\n",
       "    </tr>\n",
       "    <tr>\n",
       "      <th>1</th>\n",
       "      <td>Abuse Of Authority</td>\n",
       "      <td>Male</td>\n",
       "      <td>63477</td>\n",
       "    </tr>\n",
       "    <tr>\n",
       "      <th>2</th>\n",
       "      <td>Discourtesy</td>\n",
       "      <td>Female</td>\n",
       "      <td>2420</td>\n",
       "    </tr>\n",
       "    <tr>\n",
       "      <th>3</th>\n",
       "      <td>Discourtesy</td>\n",
       "      <td>Male</td>\n",
       "      <td>22754</td>\n",
       "    </tr>\n",
       "    <tr>\n",
       "      <th>4</th>\n",
       "      <td>Force</td>\n",
       "      <td>Female</td>\n",
       "      <td>3006</td>\n",
       "    </tr>\n",
       "    <tr>\n",
       "      <th>5</th>\n",
       "      <td>Force</td>\n",
       "      <td>Male</td>\n",
       "      <td>41879</td>\n",
       "    </tr>\n",
       "    <tr>\n",
       "      <th>6</th>\n",
       "      <td>Offensive Language</td>\n",
       "      <td>Female</td>\n",
       "      <td>435</td>\n",
       "    </tr>\n",
       "    <tr>\n",
       "      <th>7</th>\n",
       "      <td>Offensive Language</td>\n",
       "      <td>Male</td>\n",
       "      <td>4028</td>\n",
       "    </tr>\n",
       "  </tbody>\n",
       "</table>\n",
       "</div>"
      ],
      "text/plain": [
       "             FADOType OfficerGender  ComplaintID\n",
       "0  Abuse Of Authority        Female         6015\n",
       "1  Abuse Of Authority          Male        63477\n",
       "2         Discourtesy        Female         2420\n",
       "3         Discourtesy          Male        22754\n",
       "4               Force        Female         3006\n",
       "5               Force          Male        41879\n",
       "6  Offensive Language        Female          435\n",
       "7  Offensive Language          Male         4028"
      ]
     },
     "execution_count": 71,
     "metadata": {},
     "output_type": "execute_result"
    }
   ],
   "source": []
  },
  {
   "cell_type": "code",
   "execution_count": null,
   "metadata": {},
   "outputs": [],
   "source": [
    "# gb_boro_type = df.groupby(['boro_nm','ofns_desc','complaint_month']).agg({'cmplnt_num':'count'})#.sort_values(by= 'cmplnt_num',ascending=False).plot.bar(color = g_colors)\n",
    "# gb_boro_type.sort_values(by = 'cmplnt_num', ascending = False,inplace = True)\n",
    "# gb_boro_type.reset_index(inplace = True)\n",
    "# gb_boro_type.head(30)\n"
   ]
  },
  {
   "cell_type": "code",
   "execution_count": 14,
   "metadata": {},
   "outputs": [
    {
     "data": {
      "text/plain": [
       "Index(['AsOfDate', 'AllegationID', 'OfficerRace', 'OfficerID', 'CurrentRank',\n",
       "       'CurrentRankLong', 'CurrentCommand', 'IncidentRank', 'IncidentRankLong',\n",
       "       'IncidentCommand', 'ShieldNo', 'DaysOnForce', 'Status', 'LastActive',\n",
       "       'ComplaintID', 'IncidentDate', 'FADOType', 'Allegation',\n",
       "       'CCRBDisposition', 'BoardCat', 'PenaltyRec', 'NYPDDisposition',\n",
       "       'PenaltyDesc', 'LocationType', 'ContactReason', 'ContactOutcome',\n",
       "       'IncidentPrecinct', 'ImpactedRace', 'ImpactedGender', 'ImpactedAge',\n",
       "       'ReceivedDate', 'CloseDate', 'OficerName', 'OfficerGender_Female',\n",
       "       'OfficerGender_Male'],\n",
       "      dtype='object')"
      ]
     },
     "execution_count": 14,
     "metadata": {},
     "output_type": "execute_result"
    }
   ],
   "source": [
    "dff.columns"
   ]
  },
  {
   "cell_type": "code",
   "execution_count": 22,
   "metadata": {},
   "outputs": [],
   "source": [
    "gb_sex_FADOType = dff.groupby(['FADOType','OfficerGender_Female','OfficerGender_Male']).agg({'ComplaintID':'count'})#.sort_values(by= 'cmplnt_num',ascending=False).plot.bar(color = g_colors)\n",
    "gb_sex_FADOType = gb_sex_FADOType.reset_index()"
   ]
  },
  {
   "cell_type": "code",
   "execution_count": 25,
   "metadata": {},
   "outputs": [
    {
     "data": {
      "text/html": [
       "<div>\n",
       "<style scoped>\n",
       "    .dataframe tbody tr th:only-of-type {\n",
       "        vertical-align: middle;\n",
       "    }\n",
       "\n",
       "    .dataframe tbody tr th {\n",
       "        vertical-align: top;\n",
       "    }\n",
       "\n",
       "    .dataframe thead th {\n",
       "        text-align: right;\n",
       "    }\n",
       "</style>\n",
       "<table border=\"1\" class=\"dataframe\">\n",
       "  <thead>\n",
       "    <tr style=\"text-align: right;\">\n",
       "      <th></th>\n",
       "      <th>FADOType</th>\n",
       "      <th>OfficerGender_Female</th>\n",
       "      <th>OfficerGender_Male</th>\n",
       "      <th>ComplaintID</th>\n",
       "    </tr>\n",
       "  </thead>\n",
       "  <tbody>\n",
       "    <tr>\n",
       "      <th>0</th>\n",
       "      <td>Abuse Of Authority</td>\n",
       "      <td>0</td>\n",
       "      <td>1</td>\n",
       "      <td>63477</td>\n",
       "    </tr>\n",
       "    <tr>\n",
       "      <th>1</th>\n",
       "      <td>Abuse Of Authority</td>\n",
       "      <td>1</td>\n",
       "      <td>0</td>\n",
       "      <td>6015</td>\n",
       "    </tr>\n",
       "    <tr>\n",
       "      <th>2</th>\n",
       "      <td>Discourtesy</td>\n",
       "      <td>0</td>\n",
       "      <td>1</td>\n",
       "      <td>22754</td>\n",
       "    </tr>\n",
       "    <tr>\n",
       "      <th>3</th>\n",
       "      <td>Discourtesy</td>\n",
       "      <td>1</td>\n",
       "      <td>0</td>\n",
       "      <td>2420</td>\n",
       "    </tr>\n",
       "    <tr>\n",
       "      <th>4</th>\n",
       "      <td>Force</td>\n",
       "      <td>0</td>\n",
       "      <td>1</td>\n",
       "      <td>41879</td>\n",
       "    </tr>\n",
       "    <tr>\n",
       "      <th>5</th>\n",
       "      <td>Force</td>\n",
       "      <td>1</td>\n",
       "      <td>0</td>\n",
       "      <td>3006</td>\n",
       "    </tr>\n",
       "    <tr>\n",
       "      <th>6</th>\n",
       "      <td>Offensive Language</td>\n",
       "      <td>0</td>\n",
       "      <td>1</td>\n",
       "      <td>4028</td>\n",
       "    </tr>\n",
       "    <tr>\n",
       "      <th>7</th>\n",
       "      <td>Offensive Language</td>\n",
       "      <td>1</td>\n",
       "      <td>0</td>\n",
       "      <td>435</td>\n",
       "    </tr>\n",
       "  </tbody>\n",
       "</table>\n",
       "</div>"
      ],
      "text/plain": [
       "             FADOType  OfficerGender_Female  OfficerGender_Male  ComplaintID\n",
       "0  Abuse Of Authority                     0                   1        63477\n",
       "1  Abuse Of Authority                     1                   0         6015\n",
       "2         Discourtesy                     0                   1        22754\n",
       "3         Discourtesy                     1                   0         2420\n",
       "4               Force                     0                   1        41879\n",
       "5               Force                     1                   0         3006\n",
       "6  Offensive Language                     0                   1         4028\n",
       "7  Offensive Language                     1                   0          435"
      ]
     },
     "execution_count": 25,
     "metadata": {},
     "output_type": "execute_result"
    }
   ],
   "source": [
    "gb_sex_FADOType"
   ]
  },
  {
   "cell_type": "code",
   "execution_count": 27,
   "metadata": {},
   "outputs": [
    {
     "data": {
      "text/plain": [
       "Unsubstantiated                             46503\n",
       "Exonerated                                  36743\n",
       "Complainant Uncooperative                   17038\n",
       "Unfounded                                   15603\n",
       "Substantiated (Charges)                      6449\n",
       "Complaint Withdrawn                          5885\n",
       "Alleged Victim Uncooperative                 3125\n",
       "Complainant Unavailable                      2992\n",
       "Closed - Pending Litigation                  1600\n",
       "Substantiated (Command Discipline)           1204\n",
       "Miscellaneous - Subject Retired              1199\n",
       "Alleged Victim Unavailable                   1012\n",
       "Substantiated (Command Discipline A)          958\n",
       "Substantiated (Formalized Training)           938\n",
       "Miscellaneous - Subject Resigned              812\n",
       "Substantiated (Command Discipline B)          789\n",
       "Substantiated (Command Lvl Instructions)      426\n",
       "Substantiated (Instructions)                  321\n",
       "Miscellaneous                                 176\n",
       "Miscellaneous - Subject Terminated             89\n",
       "Substantiated (No Recommendations)             88\n",
       "Victim Unidentified                            56\n",
       "Witness Uncooperative                           5\n",
       "Witness Unavailable                             3\n",
       "Name: CCRBDisposition, dtype: int64"
      ]
     },
     "execution_count": 27,
     "metadata": {},
     "output_type": "execute_result"
    }
   ],
   "source": [
    "df.CCRBDisposition.value_counts()"
   ]
  },
  {
   "cell_type": "code",
   "execution_count": 28,
   "metadata": {},
   "outputs": [],
   "source": [
    "\n",
    "def ccrb_check(x):\n",
    "    if 'unsubstantiated' in x.lower().split():\n",
    "        return 'unsubstantiated'\n",
    "    elif 'substantiated' in x.lower().split():\n",
    "        return 'substantiated'\n",
    "    elif 'exonerated' in x.lower().split():\n",
    "        return 'exonerated'"
   ]
  },
  {
   "cell_type": "code",
   "execution_count": 30,
   "metadata": {},
   "outputs": [],
   "source": [
    "df['CCRB_CHECK'] = df.CCRBDisposition.apply(lambda x: ccrb_check(x))"
   ]
  },
  {
   "cell_type": "code",
   "execution_count": 36,
   "metadata": {},
   "outputs": [
    {
     "ename": "SyntaxError",
     "evalue": "unexpected EOF while parsing (<ipython-input-36-77e3a81a7be5>, line 1)",
     "output_type": "error",
     "traceback": [
      "\u001b[0;36m  File \u001b[0;32m\"<ipython-input-36-77e3a81a7be5>\"\u001b[0;36m, line \u001b[0;32m1\u001b[0m\n\u001b[0;31m    Twenty_not_exonerated = df[(df.CCRB_CHECK == 'substantiated') & (df.Age_group == 20)]['Name'].count()/df[df.Age_group == 20\u001b[0m\n\u001b[0m                                                                                                                               ^\u001b[0m\n\u001b[0;31mSyntaxError\u001b[0m\u001b[0;31m:\u001b[0m unexpected EOF while parsing\n"
     ]
    }
   ],
   "source": [
    "Twenty_not_exonerated = df[(df.CCRB_CHECK == 'substantiated') & (df.Age_group == 20)]['Name'].count()/df[df.Age_group == 20"
   ]
  },
  {
   "cell_type": "code",
   "execution_count": 124,
   "metadata": {},
   "outputs": [
    {
     "data": {
      "text/plain": [
       "Index(['unique_mos_id', 'command_now', 'shield_no', 'complaint_id',\n",
       "       'month_received', 'year_received', 'month_closed', 'year_closed',\n",
       "       'command_at_incident', 'rank_abbrev_incident', 'rank_abbrev_now',\n",
       "       'rank_now', 'rank_incident', 'mos_ethnicity', 'mos_gender',\n",
       "       'mos_age_incident', 'complainant_ethnicity', 'complainant_gender',\n",
       "       'complainant_age_incident', 'fado_type', 'allegation', 'precinct',\n",
       "       'contact_reason', 'outcome_description', 'board_disposition',\n",
       "       'OficerName'],\n",
       "      dtype='object')"
      ]
     },
     "execution_count": 124,
     "metadata": {},
     "output_type": "execute_result"
    }
   ],
   "source": [
    "df.columns"
   ]
  },
  {
   "cell_type": "code",
   "execution_count": 58,
   "metadata": {},
   "outputs": [
    {
     "ename": "AttributeError",
     "evalue": "'DataFrame' object has no attribute 'ImpactedAge'",
     "output_type": "error",
     "traceback": [
      "\u001b[0;31m---------------------------------------------------------------------------\u001b[0m",
      "\u001b[0;31mAttributeError\u001b[0m                            Traceback (most recent call last)",
      "\u001b[0;32m<ipython-input-58-10a1c9233742>\u001b[0m in \u001b[0;36m<module>\u001b[0;34m\u001b[0m\n\u001b[0;32m----> 1\u001b[0;31m \u001b[0mdf\u001b[0m\u001b[0;34m.\u001b[0m\u001b[0mImpactedAge\u001b[0m\u001b[0;34m.\u001b[0m\u001b[0mvalue_counts\u001b[0m\u001b[0;34m(\u001b[0m\u001b[0;34m)\u001b[0m\u001b[0;34m\u001b[0m\u001b[0;34m\u001b[0m\u001b[0m\n\u001b[0m",
      "\u001b[0;32m~/anaconda3/lib/python3.7/site-packages/pandas/core/generic.py\u001b[0m in \u001b[0;36m__getattr__\u001b[0;34m(self, name)\u001b[0m\n\u001b[1;32m   5485\u001b[0m         ):\n\u001b[1;32m   5486\u001b[0m             \u001b[0;32mreturn\u001b[0m \u001b[0mself\u001b[0m\u001b[0;34m[\u001b[0m\u001b[0mname\u001b[0m\u001b[0;34m]\u001b[0m\u001b[0;34m\u001b[0m\u001b[0;34m\u001b[0m\u001b[0m\n\u001b[0;32m-> 5487\u001b[0;31m         \u001b[0;32mreturn\u001b[0m \u001b[0mobject\u001b[0m\u001b[0;34m.\u001b[0m\u001b[0m__getattribute__\u001b[0m\u001b[0;34m(\u001b[0m\u001b[0mself\u001b[0m\u001b[0;34m,\u001b[0m \u001b[0mname\u001b[0m\u001b[0;34m)\u001b[0m\u001b[0;34m\u001b[0m\u001b[0;34m\u001b[0m\u001b[0m\n\u001b[0m\u001b[1;32m   5488\u001b[0m \u001b[0;34m\u001b[0m\u001b[0m\n\u001b[1;32m   5489\u001b[0m     \u001b[0;32mdef\u001b[0m \u001b[0m__setattr__\u001b[0m\u001b[0;34m(\u001b[0m\u001b[0mself\u001b[0m\u001b[0;34m,\u001b[0m \u001b[0mname\u001b[0m\u001b[0;34m:\u001b[0m \u001b[0mstr\u001b[0m\u001b[0;34m,\u001b[0m \u001b[0mvalue\u001b[0m\u001b[0;34m)\u001b[0m \u001b[0;34m->\u001b[0m \u001b[0;32mNone\u001b[0m\u001b[0;34m:\u001b[0m\u001b[0;34m\u001b[0m\u001b[0;34m\u001b[0m\u001b[0m\n",
      "\u001b[0;31mAttributeError\u001b[0m: 'DataFrame' object has no attribute 'ImpactedAge'"
     ]
    }
   ],
   "source": [
    "df.ImpactedAge.value_counts()"
   ]
  },
  {
   "cell_type": "code",
   "execution_count": 60,
   "metadata": {},
   "outputs": [],
   "source": [
    "dff['Age_group'] =  round((df.ImpactedAge//10)*10,2)\n",
    "# plt.figure(figsize=(12, 8))\n",
    "# sns.countplot(data = df ,y='Age_group',palette=\"twilight_r\",orient='h')\n",
    "# df.Age_group.unique()\n",
    "# plt.savefig('Officer age group')"
   ]
  },
  {
   "cell_type": "code",
   "execution_count": 61,
   "metadata": {},
   "outputs": [
    {
     "data": {
      "text/html": [
       "<div>\n",
       "<style scoped>\n",
       "    .dataframe tbody tr th:only-of-type {\n",
       "        vertical-align: middle;\n",
       "    }\n",
       "\n",
       "    .dataframe tbody tr th {\n",
       "        vertical-align: top;\n",
       "    }\n",
       "\n",
       "    .dataframe thead th {\n",
       "        text-align: right;\n",
       "    }\n",
       "</style>\n",
       "<table border=\"1\" class=\"dataframe\">\n",
       "  <thead>\n",
       "    <tr style=\"text-align: right;\">\n",
       "      <th></th>\n",
       "      <th>AsOfDate</th>\n",
       "      <th>AllegationID</th>\n",
       "      <th>LastName</th>\n",
       "      <th>FirstName</th>\n",
       "      <th>OfficerRace</th>\n",
       "      <th>OfficerID</th>\n",
       "      <th>CurrentRank</th>\n",
       "      <th>CurrentRankLong</th>\n",
       "      <th>CurrentCommand</th>\n",
       "      <th>IncidentRank</th>\n",
       "      <th>...</th>\n",
       "      <th>ContactOutcome</th>\n",
       "      <th>IncidentPrecinct</th>\n",
       "      <th>ImpactedRace</th>\n",
       "      <th>ImpactedGender</th>\n",
       "      <th>ImpactedAge</th>\n",
       "      <th>ReceivedDate</th>\n",
       "      <th>CloseDate</th>\n",
       "      <th>OfficerGender_Female</th>\n",
       "      <th>OfficerGender_Male</th>\n",
       "      <th>Age_group</th>\n",
       "    </tr>\n",
       "  </thead>\n",
       "  <tbody>\n",
       "    <tr>\n",
       "      <th>0</th>\n",
       "      <td>4/20/2021</td>\n",
       "      <td>1119144</td>\n",
       "      <td>Ruscillo</td>\n",
       "      <td>Taylor</td>\n",
       "      <td>White</td>\n",
       "      <td>54191</td>\n",
       "      <td>POF</td>\n",
       "      <td>Police Officer</td>\n",
       "      <td>MTN PCT</td>\n",
       "      <td>POF</td>\n",
       "      <td>...</td>\n",
       "      <td>No arrest made or summons issued</td>\n",
       "      <td>PCT 018</td>\n",
       "      <td>Hispanic</td>\n",
       "      <td>Male</td>\n",
       "      <td>29.0</td>\n",
       "      <td>2/15/2021</td>\n",
       "      <td>4/9/2021</td>\n",
       "      <td>1</td>\n",
       "      <td>0</td>\n",
       "      <td>20.0</td>\n",
       "    </tr>\n",
       "    <tr>\n",
       "      <th>1</th>\n",
       "      <td>4/20/2021</td>\n",
       "      <td>1116090</td>\n",
       "      <td>Medina</td>\n",
       "      <td>Nelson</td>\n",
       "      <td>Hispanic</td>\n",
       "      <td>76926</td>\n",
       "      <td>POM</td>\n",
       "      <td>Police Officer</td>\n",
       "      <td>TB DT02</td>\n",
       "      <td>POM</td>\n",
       "      <td>...</td>\n",
       "      <td>Arrest - other violation/crime</td>\n",
       "      <td>PCT 014</td>\n",
       "      <td>Black</td>\n",
       "      <td>Male</td>\n",
       "      <td>43.0</td>\n",
       "      <td>1/13/2021</td>\n",
       "      <td>3/9/2021</td>\n",
       "      <td>0</td>\n",
       "      <td>1</td>\n",
       "      <td>40.0</td>\n",
       "    </tr>\n",
       "    <tr>\n",
       "      <th>2</th>\n",
       "      <td>4/20/2021</td>\n",
       "      <td>1116091</td>\n",
       "      <td>Pierre</td>\n",
       "      <td>Bebeto</td>\n",
       "      <td>Black</td>\n",
       "      <td>76976</td>\n",
       "      <td>POM</td>\n",
       "      <td>Police Officer</td>\n",
       "      <td>TB DT02</td>\n",
       "      <td>POM</td>\n",
       "      <td>...</td>\n",
       "      <td>Arrest - other violation/crime</td>\n",
       "      <td>PCT 014</td>\n",
       "      <td>Black</td>\n",
       "      <td>Male</td>\n",
       "      <td>43.0</td>\n",
       "      <td>1/13/2021</td>\n",
       "      <td>3/9/2021</td>\n",
       "      <td>0</td>\n",
       "      <td>1</td>\n",
       "      <td>40.0</td>\n",
       "    </tr>\n",
       "    <tr>\n",
       "      <th>3</th>\n",
       "      <td>4/20/2021</td>\n",
       "      <td>1115473</td>\n",
       "      <td>Chapman</td>\n",
       "      <td>John</td>\n",
       "      <td>White</td>\n",
       "      <td>18497</td>\n",
       "      <td>POM</td>\n",
       "      <td>Police Officer</td>\n",
       "      <td>075 PCT</td>\n",
       "      <td>POM</td>\n",
       "      <td>...</td>\n",
       "      <td>No arrest made or summons issued</td>\n",
       "      <td>PCT 075</td>\n",
       "      <td>NaN</td>\n",
       "      <td>Male</td>\n",
       "      <td>57.0</td>\n",
       "      <td>1/11/2021</td>\n",
       "      <td>3/10/2021</td>\n",
       "      <td>0</td>\n",
       "      <td>1</td>\n",
       "      <td>NaN</td>\n",
       "    </tr>\n",
       "    <tr>\n",
       "      <th>4</th>\n",
       "      <td>4/20/2021</td>\n",
       "      <td>1115475</td>\n",
       "      <td>Tafuro</td>\n",
       "      <td>Justin</td>\n",
       "      <td>White</td>\n",
       "      <td>19003</td>\n",
       "      <td>POM</td>\n",
       "      <td>Police Officer</td>\n",
       "      <td>075 PCT</td>\n",
       "      <td>POM</td>\n",
       "      <td>...</td>\n",
       "      <td>No arrest made or summons issued</td>\n",
       "      <td>PCT 075</td>\n",
       "      <td>NaN</td>\n",
       "      <td>Male</td>\n",
       "      <td>57.0</td>\n",
       "      <td>1/11/2021</td>\n",
       "      <td>3/10/2021</td>\n",
       "      <td>0</td>\n",
       "      <td>1</td>\n",
       "      <td>NaN</td>\n",
       "    </tr>\n",
       "    <tr>\n",
       "      <th>5</th>\n",
       "      <td>4/20/2021</td>\n",
       "      <td>1114165</td>\n",
       "      <td>Clemmings</td>\n",
       "      <td>Barrington</td>\n",
       "      <td>Black</td>\n",
       "      <td>37080</td>\n",
       "      <td>POM</td>\n",
       "      <td>Police Officer</td>\n",
       "      <td>CW T TF</td>\n",
       "      <td>POM</td>\n",
       "      <td>...</td>\n",
       "      <td>No arrest made or summons issued</td>\n",
       "      <td>PCT 018</td>\n",
       "      <td>NaN</td>\n",
       "      <td>NaN</td>\n",
       "      <td>31.0</td>\n",
       "      <td>12/26/2020</td>\n",
       "      <td>3/9/2021</td>\n",
       "      <td>0</td>\n",
       "      <td>1</td>\n",
       "      <td>NaN</td>\n",
       "    </tr>\n",
       "    <tr>\n",
       "      <th>6</th>\n",
       "      <td>4/20/2021</td>\n",
       "      <td>1114886</td>\n",
       "      <td>Piechowicz</td>\n",
       "      <td>Tomasz</td>\n",
       "      <td>White</td>\n",
       "      <td>9635</td>\n",
       "      <td>POM</td>\n",
       "      <td>Police Officer</td>\n",
       "      <td>044 PCT</td>\n",
       "      <td>POM</td>\n",
       "      <td>...</td>\n",
       "      <td>No arrest made or summons issued</td>\n",
       "      <td>PCT 044</td>\n",
       "      <td>Unknown</td>\n",
       "      <td>Not described</td>\n",
       "      <td>NaN</td>\n",
       "      <td>1/4/2021</td>\n",
       "      <td>3/10/2021</td>\n",
       "      <td>0</td>\n",
       "      <td>1</td>\n",
       "      <td>NaN</td>\n",
       "    </tr>\n",
       "    <tr>\n",
       "      <th>7</th>\n",
       "      <td>4/20/2021</td>\n",
       "      <td>1114889</td>\n",
       "      <td>Piechowicz</td>\n",
       "      <td>Tomasz</td>\n",
       "      <td>White</td>\n",
       "      <td>9635</td>\n",
       "      <td>POM</td>\n",
       "      <td>Police Officer</td>\n",
       "      <td>044 PCT</td>\n",
       "      <td>POM</td>\n",
       "      <td>...</td>\n",
       "      <td>No arrest made or summons issued</td>\n",
       "      <td>PCT 044</td>\n",
       "      <td>Unknown</td>\n",
       "      <td>Not described</td>\n",
       "      <td>NaN</td>\n",
       "      <td>1/4/2021</td>\n",
       "      <td>3/10/2021</td>\n",
       "      <td>0</td>\n",
       "      <td>1</td>\n",
       "      <td>NaN</td>\n",
       "    </tr>\n",
       "    <tr>\n",
       "      <th>8</th>\n",
       "      <td>4/20/2021</td>\n",
       "      <td>1114166</td>\n",
       "      <td>Quinn</td>\n",
       "      <td>Brandon</td>\n",
       "      <td>Black</td>\n",
       "      <td>9650</td>\n",
       "      <td>POM</td>\n",
       "      <td>Police Officer</td>\n",
       "      <td>044 PCT</td>\n",
       "      <td>POM</td>\n",
       "      <td>...</td>\n",
       "      <td>No arrest made or summons issued</td>\n",
       "      <td>PCT 044</td>\n",
       "      <td>White</td>\n",
       "      <td>Female</td>\n",
       "      <td>22.0</td>\n",
       "      <td>12/24/2020</td>\n",
       "      <td>3/9/2021</td>\n",
       "      <td>0</td>\n",
       "      <td>1</td>\n",
       "      <td>20.0</td>\n",
       "    </tr>\n",
       "    <tr>\n",
       "      <th>9</th>\n",
       "      <td>4/20/2021</td>\n",
       "      <td>1114167</td>\n",
       "      <td>Quinn</td>\n",
       "      <td>Brandon</td>\n",
       "      <td>Black</td>\n",
       "      <td>9650</td>\n",
       "      <td>POM</td>\n",
       "      <td>Police Officer</td>\n",
       "      <td>044 PCT</td>\n",
       "      <td>POM</td>\n",
       "      <td>...</td>\n",
       "      <td>No arrest made or summons issued</td>\n",
       "      <td>PCT 044</td>\n",
       "      <td>White</td>\n",
       "      <td>Female</td>\n",
       "      <td>22.0</td>\n",
       "      <td>12/24/2020</td>\n",
       "      <td>3/9/2021</td>\n",
       "      <td>0</td>\n",
       "      <td>1</td>\n",
       "      <td>20.0</td>\n",
       "    </tr>\n",
       "  </tbody>\n",
       "</table>\n",
       "<p>10 rows × 37 columns</p>\n",
       "</div>"
      ],
      "text/plain": [
       "    AsOfDate  AllegationID    LastName   FirstName OfficerRace  OfficerID  \\\n",
       "0  4/20/2021       1119144    Ruscillo      Taylor       White      54191   \n",
       "1  4/20/2021       1116090      Medina      Nelson    Hispanic      76926   \n",
       "2  4/20/2021       1116091      Pierre      Bebeto       Black      76976   \n",
       "3  4/20/2021       1115473     Chapman        John       White      18497   \n",
       "4  4/20/2021       1115475      Tafuro      Justin       White      19003   \n",
       "5  4/20/2021       1114165   Clemmings  Barrington       Black      37080   \n",
       "6  4/20/2021       1114886  Piechowicz      Tomasz       White       9635   \n",
       "7  4/20/2021       1114889  Piechowicz      Tomasz       White       9635   \n",
       "8  4/20/2021       1114166       Quinn     Brandon       Black       9650   \n",
       "9  4/20/2021       1114167       Quinn     Brandon       Black       9650   \n",
       "\n",
       "  CurrentRank CurrentRankLong CurrentCommand IncidentRank  ...  \\\n",
       "0         POF  Police Officer        MTN PCT          POF  ...   \n",
       "1         POM  Police Officer        TB DT02          POM  ...   \n",
       "2         POM  Police Officer        TB DT02          POM  ...   \n",
       "3         POM  Police Officer        075 PCT          POM  ...   \n",
       "4         POM  Police Officer        075 PCT          POM  ...   \n",
       "5         POM  Police Officer        CW T TF          POM  ...   \n",
       "6         POM  Police Officer        044 PCT          POM  ...   \n",
       "7         POM  Police Officer        044 PCT          POM  ...   \n",
       "8         POM  Police Officer        044 PCT          POM  ...   \n",
       "9         POM  Police Officer        044 PCT          POM  ...   \n",
       "\n",
       "                     ContactOutcome IncidentPrecinct  ImpactedRace  \\\n",
       "0  No arrest made or summons issued          PCT 018      Hispanic   \n",
       "1    Arrest - other violation/crime          PCT 014         Black   \n",
       "2    Arrest - other violation/crime          PCT 014         Black   \n",
       "3  No arrest made or summons issued          PCT 075           NaN   \n",
       "4  No arrest made or summons issued          PCT 075           NaN   \n",
       "5  No arrest made or summons issued          PCT 018           NaN   \n",
       "6  No arrest made or summons issued          PCT 044       Unknown   \n",
       "7  No arrest made or summons issued          PCT 044       Unknown   \n",
       "8  No arrest made or summons issued          PCT 044         White   \n",
       "9  No arrest made or summons issued          PCT 044         White   \n",
       "\n",
       "   ImpactedGender ImpactedAge ReceivedDate  CloseDate OfficerGender_Female  \\\n",
       "0            Male        29.0    2/15/2021   4/9/2021                    1   \n",
       "1            Male        43.0    1/13/2021   3/9/2021                    0   \n",
       "2            Male        43.0    1/13/2021   3/9/2021                    0   \n",
       "3            Male        57.0    1/11/2021  3/10/2021                    0   \n",
       "4            Male        57.0    1/11/2021  3/10/2021                    0   \n",
       "5             NaN        31.0   12/26/2020   3/9/2021                    0   \n",
       "6   Not described         NaN     1/4/2021  3/10/2021                    0   \n",
       "7   Not described         NaN     1/4/2021  3/10/2021                    0   \n",
       "8          Female        22.0   12/24/2020   3/9/2021                    0   \n",
       "9          Female        22.0   12/24/2020   3/9/2021                    0   \n",
       "\n",
       "  OfficerGender_Male Age_group  \n",
       "0                  0      20.0  \n",
       "1                  1      40.0  \n",
       "2                  1      40.0  \n",
       "3                  1       NaN  \n",
       "4                  1       NaN  \n",
       "5                  1       NaN  \n",
       "6                  1       NaN  \n",
       "7                  1       NaN  \n",
       "8                  1      20.0  \n",
       "9                  1      20.0  \n",
       "\n",
       "[10 rows x 37 columns]"
      ]
     },
     "execution_count": 61,
     "metadata": {},
     "output_type": "execute_result"
    }
   ],
   "source": [
    "dff.head(10)"
   ]
  },
  {
   "cell_type": "markdown",
   "metadata": {},
   "source": [
    "***\n",
    "##### Pivot Table Used Here\n",
    "***"
   ]
  },
  {
   "cell_type": "code",
   "execution_count": null,
   "metadata": {},
   "outputs": [],
   "source": []
  },
  {
   "cell_type": "code",
   "execution_count": null,
   "metadata": {},
   "outputs": [],
   "source": [
    "#Lastly we'll look at the commonest complainst per race\n",
    "# pr = df.pivot_table(values='Name',columns='complainant_ethnicity',index='fado_type',aggfunc='count')\n",
    "\n",
    "# Total_ethinc=(pr['American Indian']+pr['Asian']+ pr['Black']+pr['Hispanic'] + pr['White'])\n",
    "# pr['American Indian%']= round( pr['American Indian']/Total_ethinc *100,2)\n",
    "# pr['Asian%'] = round( pr['Asian']/Total_ethinc *100,2)\n",
    "# pr['Black%'] = round( pr['Black']/Total_ethinc *100,2)\n",
    "# pr['Hispanic%'] = round( pr['Hispanic']/Total_ethinc *100,2)\n",
    "# pr['White%'] =  round( pr['White']/Total_ethinc *100,2)\n",
    "# pr.drop(['American Indian','Black','White','Hispanic','Asian'],axis=1,inplace=True)\n",
    "# pr['index']=np.arange(4)\n",
    "# pr"
   ]
  },
  {
   "cell_type": "code",
   "execution_count": null,
   "metadata": {},
   "outputs": [],
   "source": []
  }
 ],
 "metadata": {
  "kernelspec": {
   "display_name": "Python 3",
   "language": "python",
   "name": "python3"
  },
  "language_info": {
   "codemirror_mode": {
    "name": "ipython",
    "version": 3
   },
   "file_extension": ".py",
   "mimetype": "text/x-python",
   "name": "python",
   "nbconvert_exporter": "python",
   "pygments_lexer": "ipython3",
   "version": "3.7.3"
  }
 },
 "nbformat": 4,
 "nbformat_minor": 2
}
